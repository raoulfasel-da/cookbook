{
 "cells": [
  {
   "cell_type": "markdown",
   "metadata": {},
   "source": [
    "# UbiOps Pipeline tutorial"
   ]
  },
  {
   "cell_type": "markdown",
   "metadata": {},
   "source": [
    "This tutorial provides a practical overview of all the pipeline functionalities of UbiOps. \n",
    "Extra focus will be placed on how to achieve the different functionalities with the UbiOps Python SDK.  \n",
    "Many different examples will be given, getting more complex throughout the tutorial. "
   ]
  },
  {
   "cell_type": "markdown",
   "metadata": {},
   "source": [
    "The following items will be explained:\n",
    "\n",
    "- Basic pipeline functionality\n",
    "- Output splitting/merging\n",
    "- Subpipelines\n",
    "- Variables\n",
    "- [Operators](https://ubiops.com/docs/pipelines/operators/)\n",
    "    - [Functions](https://ubiops.com/docs/pipelines/operators/#function)\n",
    "        - Provides ability to manipulate request data fields\n",
    "    - [Conditionals](https://ubiops.com/docs/pipelines/operators/#conditional-logic)\n",
    "        - Provides the ability to conditionally choose the next object in the pipeline\n",
    "    - [Raise error](https://ubiops.com/docs/pipelines/operators/#raise-error)\n",
    "        - Provides the ability to raise an error somewhere in the pipeline\n",
    "    - [Create + Collect Subrequests](https://ubiops.com/docs/pipelines/operators/#create-subrequests)\n",
    "        - Provides the ability to parallelize subrequests over multiple instances of a deployment object.\n",
    "    - [Count subrequests](https://ubiops.com/docs/pipelines/operators/#count-subrequests)\n",
    "        - Provides the ability to count the number of subrequests"
   ]
  },
  {
   "cell_type": "markdown",
   "metadata": {},
   "source": [
    "Do note that this tutorial will not go through a specific use case.\n",
    "Instead we will focus on explaining the different pipeline functionalities,\n",
    "using examples to illustrate solely these functionalities."
   ]
  },
  {
   "cell_type": "markdown",
   "metadata": {},
   "source": [
    "## Python SDK"
   ]
  },
  {
   "cell_type": "markdown",
   "metadata": {},
   "source": [
    "In order to deploy a pipeline using the Python SDK, we will mainly need the following 2 functions:  \n",
    "\n",
    "- [`pipelines_create`](https://ubiops.com/docs/python_client_library/Pipelines#pipelines_create): This function will create a new pipeline in UbiOps.\n",
    "- [`pipeline_versions_create`](https://ubiops.com/docs/python_client_library/Pipelines#pipeline_versions_create): This function will create a new version of a pipeline in UbiOps.\n",
    "\n",
    "We will focus mostly on the `pipeline_versions_create` function, as this is the function that specifies the exact pipeline layout."
   ]
  },
  {
   "cell_type": "markdown",
   "metadata": {},
   "source": [
    "### `pipelines_create`"
   ]
  },
  {
   "cell_type": "markdown",
   "metadata": {},
   "source": [
    "This function is used to create a new pipeline in UbiOps.\n",
    "This function simply defines the overhead of the pipeline, without specifying the exact layout of the pipeline.  \n",
    "It requires the following parameters (excluding optional parameters):\n",
    "\n",
    "- `name`: The name of the pipeline.\n",
    "- `{input, output}_type`: The input and output type of the pipeline, namely plain or structured.\n",
    "- `{input, output}_fields`: The fields of the input and output type (when structured).\n",
    "  \n",
    "The full documentation can be found on the UbiOps documentation page [here](https://ubiops.com/docs/python_client_library/Pipelines#pipelines_create)"
   ]
  },
  {
   "cell_type": "markdown",
   "metadata": {},
   "source": [
    "### `pipelines_versions_create`"
   ]
  },
  {
   "cell_type": "markdown",
   "metadata": {},
   "source": [
    "This function is used to create a new version of a pipeline in UbiOps. This function is the main focus of this tutorial, as it specifies the exact layout of the pipeline.  \n",
    "It requires the following parameters (excluding optional parameters):\n",
    "\n",
    "- `project_name`: The name of the project in which the pipeline will be deployed.\n",
    "- `pipeline_name`: The name of the pipeline.\n",
    "- `data`: A `PipelineVersionCreate` object, which specifies the exact layout and details of the pipeline.\n",
    "\n",
    "How we exactly specify the layout of the pipeline with the `PipelineVersionCreate` object will be explained in the following sections.  \n",
    "The full documentation can be found on the UbiOps documentation page [here](https://ubiops.com/docs/python_client_library/Pipelines#pipeline_versions_create)"
   ]
  },
  {
   "cell_type": "markdown",
   "metadata": {},
   "source": [
    "#### `PipelineVersionCreate`"
   ]
  },
  {
   "cell_type": "markdown",
   "metadata": {},
   "source": [
    "Most of the magic happens in the `PipelineVersionCreate` object.\n",
    "The properties of the `PipelineVersionCreate` class can be found [here](https://ubiops.com/docs/python_client_library/models/PipelineVersionCreate),\n",
    "with an explanation given [here](https://ubiops.com/docs/python_client_library/Pipelines/#optional-parameters_1).  \n",
    "This object specifies the exact layout of the pipeline, among other things.  \n",
    "The most interesting properties of this objects are the `objects` and `attachments` properties. As the name suggests, the `objects` property specifies the different objects in the pipeline, while the `attachments` property specifies the connections between these objects.  \n"
   ]
  },
  {
   "cell_type": "markdown",
   "metadata": {},
   "source": [
    "## Setup"
   ]
  },
  {
   "cell_type": "markdown",
   "metadata": {},
   "source": [
    "Let's set up our environment to start this tutorial.\n",
    "First, we need to install the UbiOps Python SDK."
   ]
  },
  {
   "cell_type": "code",
   "execution_count": null,
   "metadata": {},
   "outputs": [],
   "source": [
    "!pip install ubiops"
   ]
  },
  {
   "cell_type": "markdown",
   "metadata": {},
   "source": [
    "Next, we need to set up our connection to UbiOps."
   ]
  },
  {
   "cell_type": "code",
   "execution_count": null,
   "metadata": {},
   "outputs": [],
   "source": [
    "import ubiops\n",
    "\n",
    "API_TOKEN = \"<INSERT YOUR TOKEN HERE>\" # Make sure this is in the format \"Token token-code\"\n",
    "PROJECT_NAME = \"<INSERT PROJECT NAME>\"\n",
    "\n",
    "configuration = ubiops.Configuration()\n",
    "configuration.api_key['Authorization'] = API_TOKEN\n",
    "configuration.host = 'https://api.ubiops.com/v2.1'\n",
    "\n",
    "client = ubiops.ApiClient(configuration)\n",
    "api = ubiops.CoreApi(client)\n",
    "api.service_status()"
   ]
  },
  {
   "cell_type": "markdown",
   "metadata": {},
   "source": [
    "Now that we have set up our connection to UbiOps, we can get started!"
   ]
  },
  {
   "cell_type": "markdown",
   "metadata": {},
   "source": [
    "## Basic pipeline functionality"
   ]
  },
  {
   "cell_type": "markdown",
   "metadata": {},
   "source": [
    "The power of UbiOps pipelines lies in the ability to chain different objects together. Objects can be of different types, such as deployments and operators.  \n",
    "In this section, we will show how to simply chain deployments together, the most basic functionality, but also most important functionality of UbiOps pipelines.  \n",
    "In order to showcase this, we will create a simple pipeline that takes an input and does a mathematical operation on it.  \n"
   ]
  },
  {
   "cell_type": "markdown",
   "metadata": {},
   "source": [
    "An image of the pipeline we're building in this section is as follows:  "
   ]
  },
  {
   "cell_type": "markdown",
   "metadata": {},
   "source": [
    "![pipeline](https://storage.googleapis.com/ubiops/tutorial-helper-files/pipeline-tutorial/Basic-Pipeline-Image.png)"
   ]
  },
  {
   "cell_type": "markdown",
   "metadata": {},
   "source": [
    "This pipeline will consist of 2 deployments, one that multiplies the input by 2 and one that adds 5 to the input."
   ]
  },
  {
   "cell_type": "markdown",
   "metadata": {},
   "source": [
    "### Deployment code"
   ]
  },
  {
   "cell_type": "markdown",
   "metadata": {},
   "source": [
    "For the deployments, we will create 2 different deployments:\n",
    "\n",
    "- `multiply_2`: This deployment will multiply the input by 2.\n",
    "- `add_5`: This deployment will add 5 to the input.\n",
    "\n",
    "These deployments are purely for illustrative purposes, to show how to chain deployments together."
   ]
  },
  {
   "cell_type": "markdown",
   "metadata": {},
   "source": [
    "Let's create the deployments by making the corresponding directories and creating the `deployment.py` files."
   ]
  },
  {
   "cell_type": "code",
   "execution_count": null,
   "metadata": {},
   "outputs": [],
   "source": [
    "import os\n",
    "\n",
    "multiply_2_deployment_name = \"multiply-2\"\n",
    "add_5_deployment_name = \"add-5\"\n",
    "\n",
    "deployment_directory = \"new_deployment\"\n",
    "multiply_2_deployment_path = f\"{deployment_directory}/{multiply_2_deployment_name}\"\n",
    "add_5_deployment_path = f\"{deployment_directory}/{add_5_deployment_name}\"\n",
    "\n",
    "# Create the directories\n",
    "os.makedirs(multiply_2_deployment_path, exist_ok=True)\n",
    "os.makedirs(add_5_deployment_path, exist_ok=True)"
   ]
  },
  {
   "cell_type": "code",
   "execution_count": null,
   "metadata": {},
   "outputs": [],
   "source": [
    "%%writefile {multiply_2_deployment_path}/deployment.py\n",
    "\n",
    "class Deployment:\n",
    "    def __init__(self, base_directory, context):\n",
    "        pass\n",
    "\n",
    "    def request(self, data):\n",
    "        return {\n",
    "            \"output\": data[\"input\"] * 2\n",
    "        }"
   ]
  },
  {
   "cell_type": "code",
   "execution_count": null,
   "metadata": {},
   "outputs": [],
   "source": [
    "%%writefile {add_5_deployment_path}/deployment.py\n",
    "\n",
    "class Deployment:\n",
    "    def __init__(self, base_directory, context):\n",
    "        pass\n",
    "\n",
    "    def request(self, data):\n",
    "        return {\n",
    "            \"output\": data[\"input\"] + 5\n",
    "        }"
   ]
  },
  {
   "cell_type": "markdown",
   "metadata": {},
   "source": [
    "We have now created the deployments. Let's upload these deployments to UbiOps and incorporate them into a pipeline."
   ]
  },
  {
   "cell_type": "markdown",
   "metadata": {},
   "source": [
    "### Upload Deployment"
   ]
  },
  {
   "cell_type": "markdown",
   "metadata": {},
   "source": [
    "To upload the deployment to UbiOps, we need to create the deployment and create a corresponding deployment version."
   ]
  },
  {
   "cell_type": "markdown",
   "metadata": {},
   "source": [
    "#### Create Deployment"
   ]
  },
  {
   "cell_type": "code",
   "execution_count": null,
   "metadata": {},
   "outputs": [],
   "source": [
    "# Standard input and output variables for the deployments\n",
    "from ubiops import InputOutputFieldBase\n",
    "\n",
    "input_variable = InputOutputFieldBase(\n",
    "    name=\"input\",\n",
    "    data_type=\"int\"\n",
    ")\n",
    "input_variable = [input_variable]\n",
    "\n",
    "output_variable = InputOutputFieldBase(\n",
    "    name=\"output\",\n",
    "    data_type=\"int\"\n",
    ")\n",
    "output_variable = [output_variable]"
   ]
  },
  {
   "cell_type": "code",
   "execution_count": null,
   "metadata": {},
   "outputs": [],
   "source": [
    "deployment_template_multiply = ubiops.DeploymentCreate(\n",
    "    name=multiply_2_deployment_name,\n",
    "    description=\"Deployment that multiplies input by 2\",\n",
    "    input_type=\"structured\",\n",
    "    input_fields=input_variable,\n",
    "    output_type=\"structured\",\n",
    "    output_fields=output_variable\n",
    ")\n",
    "\n",
    "deployment_template_add = ubiops.DeploymentCreate(\n",
    "    name=add_5_deployment_name,\n",
    "    description=\"Deployment that adds 5 to input\",\n",
    "    input_type=\"structured\",\n",
    "    input_fields=input_variable,\n",
    "    output_type=\"structured\",\n",
    "    output_fields=output_variable\n",
    ")\n",
    "\n",
    "api.deployments_create(PROJECT_NAME, deployment_template_multiply)\n",
    "api.deployments_create(PROJECT_NAME, deployment_template_add)"
   ]
  },
  {
   "cell_type": "markdown",
   "metadata": {},
   "source": [
    "We have now specified the deployments. Let's create the deployment versions."
   ]
  },
  {
   "cell_type": "markdown",
   "metadata": {},
   "source": [
    "#### Create Deployment versions"
   ]
  },
  {
   "cell_type": "code",
   "execution_count": null,
   "metadata": {},
   "outputs": [],
   "source": [
    "deployment_version_template = ubiops.DeploymentVersionCreate(\n",
    "    version=\"v1\",\n",
    "    environment='python3-11',\n",
    "    instance_type='512mb',\n",
    "    minimum_instances=0,\n",
    "    maximum_instances=1,\n",
    "    maximum_idle_time=300,  # = 30 minutes\n",
    "    request_retention_mode='full'\n",
    ")\n",
    "\n",
    "api.deployment_versions_create(\n",
    "    project_name=PROJECT_NAME,\n",
    "    deployment_name=multiply_2_deployment_name,\n",
    "    data=deployment_version_template\n",
    ")\n",
    "\n",
    "api.deployment_versions_create(\n",
    "    project_name=PROJECT_NAME,\n",
    "    deployment_name=add_5_deployment_name,\n",
    "    data=deployment_version_template\n",
    ")"
   ]
  },
  {
   "cell_type": "markdown",
   "metadata": {},
   "source": [
    "We have now created the deployments and deployment versions. It's now time to upload our deploymnet code to our newly created versions!"
   ]
  },
  {
   "cell_type": "markdown",
   "metadata": {},
   "source": [
    "#### Zip and upload deployment code"
   ]
  },
  {
   "cell_type": "code",
   "execution_count": null,
   "metadata": {},
   "outputs": [],
   "source": [
    "import shutil\n",
    "\n",
    "add_5_zip_file = shutil.make_archive(add_5_deployment_path, 'zip', add_5_deployment_path)\n",
    "api.revisions_file_upload(\n",
    "    project_name=PROJECT_NAME,\n",
    "    deployment_name=add_5_deployment_name,\n",
    "    version=\"v1\",\n",
    "    file=add_5_zip_file\n",
    ")\n",
    "\n",
    "multiply_2_zip_file = shutil.make_archive(multiply_2_deployment_path, \"zip\", multiply_2_deployment_path)\n",
    "result = api.revisions_file_upload(\n",
    "    project_name=PROJECT_NAME,\n",
    "    deployment_name=multiply_2_deployment_name,\n",
    "    version=\"v1\",\n",
    "    file=multiply_2_zip_file\n",
    ")\n",
    "\n",
    "# # Remove the zip file\n",
    "os.remove(add_5_zip_file)\n",
    "os.remove(multiply_2_zip_file)\n",
    "\n",
    "ubiops.utils.wait_for_deployment_version(client, PROJECT_NAME, add_5_deployment_name, \"v1\")\n",
    "ubiops.utils.wait_for_deployment_version(client, PROJECT_NAME, multiply_2_deployment_name, \"v1\")"
   ]
  },
  {
   "cell_type": "markdown",
   "metadata": {},
   "source": [
    "Our deployments are now ready to be used in a pipeline. Let's create a pipeline that chains these deployments together."
   ]
  },
  {
   "cell_type": "markdown",
   "metadata": {},
   "source": [
    "### Create Pipeline"
   ]
  },
  {
   "cell_type": "markdown",
   "metadata": {},
   "source": [
    "It's time to create the pipeline that chains the deployments together.  \n",
    "Let's start by creating our pipeline and then our pipeline version. \n",
    "Just like with deployments, we need to specify the input and output fields of the pipeline. \n",
    "We will use the same input and output variables as the deployments."
   ]
  },
  {
   "cell_type": "code",
   "execution_count": null,
   "metadata": {},
   "outputs": [],
   "source": [
    "basic_pipeline_name = \"pipeline-basic-new\"\n",
    "\n",
    "pipeline_template = ubiops.PipelineCreate(\n",
    "    name=basic_pipeline_name,\n",
    "    input_type=\"structured\",\n",
    "    input_fields=input_variable,\n",
    "    output_type=\"structured\",\n",
    "    output_fields=output_variable\n",
    ")\n",
    "\n",
    "api.pipelines_create(\n",
    "    project_name=PROJECT_NAME,\n",
    "    data=pipeline_template\n",
    ")"
   ]
  },
  {
   "cell_type": "code",
   "execution_count": null,
   "metadata": {},
   "outputs": [],
   "source": [
    "pipeline_multiply_name = multiply_2_deployment_name\n",
    "pipeline_add_name = add_5_deployment_name\n",
    "\n",
    "pipeline_add_object = {\n",
    "    \"name\": pipeline_add_name,\n",
    "    \"reference_type\": \"deployment\",\n",
    "    \"reference_name\": add_5_deployment_name,\n",
    "}\n",
    "\n",
    "pipeline_multiply_object = {\n",
    "    \"name\": pipeline_multiply_name,\n",
    "    \"reference_type\": \"deployment\",\n",
    "    \"reference_name\": multiply_2_deployment_name,\n",
    "}\n",
    "\n",
    "objects = [\n",
    "    pipeline_multiply_object,\n",
    "    pipeline_add_object\n",
    "]\n",
    "\n",
    "attachments = [\n",
    "    # Start -> Multiply Deployment\n",
    "    {\n",
    "        \"destination_name\": pipeline_multiply_name,\n",
    "        \"sources\": [\n",
    "            {\n",
    "                \"source_name\": \"pipeline_start\",\n",
    "                \"mapping\": [\n",
    "                    {\n",
    "                        \"source_field_name\": \"input\",\n",
    "                        \"destination_field_name\": \"input\"\n",
    "                    }\n",
    "                ]\n",
    "            }\n",
    "        ]\n",
    "    },\n",
    "    # Multiply Deployment -> Add Deployment\n",
    "    {\n",
    "        \"destination_name\": pipeline_add_name,\n",
    "        \"sources\": [\n",
    "            {\n",
    "                \"source_name\": pipeline_multiply_name,\n",
    "                \"mapping\": [\n",
    "                    {\n",
    "                        \"source_field_name\": \"output\",\n",
    "                        \"destination_field_name\": \"input\"\n",
    "                    }\n",
    "                ]\n",
    "            }\n",
    "        ]\n",
    "    },\n",
    "    # Add Deployment -> End\n",
    "    {\n",
    "        \"destination_name\": \"pipeline_end\",\n",
    "        \"sources\": [\n",
    "            {\n",
    "                \"source_name\": pipeline_add_name,\n",
    "                \"mapping\": [\n",
    "                    {\n",
    "                        \"source_field_name\": \"output\",\n",
    "                        \"destination_field_name\": \"output\"\n",
    "                    }\n",
    "                ]\n",
    "            }\n",
    "        ]\n",
    "    }\n",
    "]\n",
    "\n",
    "pipeline_version_template = ubiops.PipelineVersionCreate(\n",
    "    version=\"v1\",\n",
    "    request_retention_mode='full',\n",
    "    objects=objects,\n",
    "    attachments=attachments\n",
    ")\n",
    "# Insert or otherwise update pipeline version\n",
    "api.pipeline_versions_create(\n",
    "    project_name=PROJECT_NAME,\n",
    "    pipeline_name=\"pipeline-basic-new\",\n",
    "    data=pipeline_version_template\n",
    ")"
   ]
  },
  {
   "cell_type": "markdown",
   "metadata": {},
   "source": [
    "We have now created our first pipeline version with the UbiOps Client Library!  \n",
    "We can visually inspect this pipeline in the UbiOps WebApp.  \n",
    "Let's send a request to this pipeline to see if it works as expected."
   ]
  },
  {
   "cell_type": "markdown",
   "metadata": {},
   "source": [
    "#### Send pipeline request"
   ]
  },
  {
   "cell_type": "code",
   "execution_count": null,
   "metadata": {},
   "outputs": [],
   "source": [
    "api.pipeline_requests_create(\n",
    "    project_name=PROJECT_NAME,\n",
    "    pipeline_name=basic_pipeline_name,\n",
    "    data={\"input\": 5}\n",
    ")"
   ]
  },
  {
   "cell_type": "markdown",
   "metadata": {},
   "source": [
    "As we can see, we've got a successful response from the pipeline!"
   ]
  },
  {
   "cell_type": "markdown",
   "metadata": {},
   "source": [
    "## Output splitting/merging"
   ]
  },
  {
   "cell_type": "markdown",
   "metadata": {},
   "source": [
    "In this section, we'll showcase how to split and merge outputs of deployments inside a pipeline.  \n",
    "The pipeline layout is depicted in the following image:"
   ]
  },
  {
   "cell_type": "markdown",
   "metadata": {},
   "source": [
    "![pipeline](https://storage.googleapis.com/ubiops/tutorial-helper-files/pipeline-tutorial/Split-Merge-Pipeline-Image.png)"
   ]
  },
  {
   "cell_type": "markdown",
   "metadata": {},
   "source": [
    "As we can see in the image above,\n",
    "we're gonna split the output of one deployment into two separate deployments,\n",
    "and then merge the outputs of these two deployments into one deployment.\n"
   ]
  },
  {
   "cell_type": "markdown",
   "metadata": {},
   "source": [
    "### Deployment code"
   ]
  },
  {
   "cell_type": "markdown",
   "metadata": {},
   "source": [
    "We will use two new deployments to showcase this functionality,\n",
    "namely a deployment that takes in a single input and returns two outputs,\n",
    "and a deployment that takes in two inputs and returns a single output.  \n",
    "Let's create the deployment code for these deployments."
   ]
  },
  {
   "cell_type": "code",
   "execution_count": null,
   "metadata": {},
   "outputs": [],
   "source": [
    "create_2_deployment_name = \"create-2-outputs\"\n",
    "merge_2_deployment_name = \"sum-2-outputs\"\n",
    "\n",
    "create_2_output_path = f\"{deployment_directory}/{create_2_deployment_name}\"\n",
    "merge_2_inputs_path = f\"{deployment_directory}/{merge_2_deployment_name}\"\n",
    "\n",
    "os.makedirs(create_2_output_path, exist_ok=True)\n",
    "os.makedirs(merge_2_inputs_path, exist_ok=True)"
   ]
  },
  {
   "cell_type": "code",
   "execution_count": null,
   "metadata": {},
   "outputs": [],
   "source": [
    "%%writefile {create_2_output_path}/deployment.py\n",
    "\n",
    "class Deployment:\n",
    "    def __init__(self, base_directory, context):\n",
    "        pass\n",
    "\n",
    "    def request(self, data):\n",
    "        return {\n",
    "            \"output_1\": data[\"input\"] * 2,\n",
    "            \"output_2\": data[\"input\"] * 3\n",
    "        }\n"
   ]
  },
  {
   "cell_type": "code",
   "execution_count": null,
   "metadata": {},
   "outputs": [],
   "source": [
    "%%writefile {merge_2_inputs_path}/deployment.py\n",
    "\n",
    "class Deployment:\n",
    "    def __init__(self, base_directory, context):\n",
    "        pass\n",
    "\n",
    "    def request(self, data):\n",
    "        return {\n",
    "            \"output\": data[\"input_1\"] + data[\"input_2\"]\n",
    "        }\n"
   ]
  },
  {
   "cell_type": "markdown",
   "metadata": {},
   "source": [
    "### Upload Deployment"
   ]
  },
  {
   "cell_type": "markdown",
   "metadata": {},
   "source": [
    "Once again, it's time to create a deployment and deployment version for the new deployments and upload the deployment code."
   ]
  },
  {
   "cell_type": "markdown",
   "metadata": {},
   "source": [
    "#### Create Deployment"
   ]
  },
  {
   "cell_type": "markdown",
   "metadata": {},
   "source": [
    "Let's specify our deployment input/output variables once again"
   ]
  },
  {
   "cell_type": "code",
   "execution_count": null,
   "metadata": {},
   "outputs": [],
   "source": [
    "output_variables_create_2 = [\n",
    "    InputOutputFieldBase\n",
    "    (\n",
    "        name=\"output_1\",\n",
    "        data_type=\"int\"\n",
    "    ),\n",
    "    InputOutputFieldBase(\n",
    "        name=\"output_2\",\n",
    "        data_type=\"int\"\n",
    "    )\n",
    "]\n",
    "\n",
    "input_variables_merge_2 = [\n",
    "    InputOutputFieldBase(\n",
    "        name=\"input_1\",\n",
    "        data_type=\"int\"\n",
    "    ),\n",
    "    InputOutputFieldBase(\n",
    "        name=\"input_2\",\n",
    "        data_type=\"int\"\n",
    "    )\n",
    "]\n"
   ]
  },
  {
   "cell_type": "markdown",
   "metadata": {},
   "source": [
    "Now, we'll create our deployments on UbiOps"
   ]
  },
  {
   "cell_type": "code",
   "execution_count": null,
   "metadata": {},
   "outputs": [],
   "source": [
    "deployment_template_create_2 = ubiops.DeploymentCreate(\n",
    "    name=create_2_deployment_name,\n",
    "    description=\"Deployment that creates 2 outputs\",\n",
    "    input_type=\"structured\",\n",
    "    input_fields=input_variable,\n",
    "    output_type=\"structured\",\n",
    "    output_fields=output_variables_create_2\n",
    ")\n",
    "api.deployments_create(PROJECT_NAME, deployment_template_create_2)"
   ]
  },
  {
   "cell_type": "code",
   "execution_count": null,
   "metadata": {},
   "outputs": [],
   "source": [
    "deployment_template_merge_2 = ubiops.DeploymentCreate(\n",
    "    name=merge_2_deployment_name,\n",
    "    description=\"Deployment that sums 2 inputs\",\n",
    "    input_type=\"structured\",\n",
    "    input_fields=input_variables_merge_2,\n",
    "    output_type=\"structured\",\n",
    "    output_fields=output_variable\n",
    ")\n",
    "\n",
    "api.deployments_create(PROJECT_NAME, deployment_template_merge_2)"
   ]
  },
  {
   "cell_type": "markdown",
   "metadata": {},
   "source": [
    "#### Create Deployment versions"
   ]
  },
  {
   "cell_type": "markdown",
   "metadata": {},
   "source": [
    "Now that we have created the deployments, we can create the deployment versions."
   ]
  },
  {
   "cell_type": "code",
   "execution_count": null,
   "metadata": {},
   "outputs": [],
   "source": [
    "deployment_version_template = ubiops.DeploymentVersionCreate(\n",
    "    version=\"v1\",\n",
    "    environment='python3-11',\n",
    "    instance_type='512mb',\n",
    "    minimum_instances=0,\n",
    "    maximum_instances=1,\n",
    "    maximum_idle_time=300,  # = 30 minutes\n",
    "    request_retention_mode='full'\n",
    ")\n",
    "\n",
    "api.deployment_versions_create(\n",
    "    project_name=PROJECT_NAME,\n",
    "    deployment_name=create_2_deployment_name,\n",
    "    data=deployment_version_template\n",
    ")\n",
    "\n",
    "api.deployment_versions_create(\n",
    "    project_name=PROJECT_NAME,\n",
    "    deployment_name=merge_2_deployment_name,\n",
    "    data=deployment_version_template\n",
    ")"
   ]
  },
  {
   "cell_type": "markdown",
   "metadata": {},
   "source": [
    "#### Zip and upload deployment code"
   ]
  },
  {
   "cell_type": "markdown",
   "metadata": {},
   "source": [
    "Let's create the zip files and upload the deployment code to UbiOps."
   ]
  },
  {
   "cell_type": "code",
   "execution_count": null,
   "metadata": {},
   "outputs": [],
   "source": [
    "create_2_zip_file = shutil.make_archive(create_2_output_path, 'zip', create_2_output_path)\n",
    "api.revisions_file_upload(\n",
    "    project_name=PROJECT_NAME,\n",
    "    deployment_name=create_2_deployment_name,\n",
    "    version=\"v1\",\n",
    "    file=create_2_zip_file\n",
    ")\n",
    "os.remove(create_2_zip_file)"
   ]
  },
  {
   "cell_type": "code",
   "execution_count": null,
   "metadata": {},
   "outputs": [],
   "source": [
    "merge_2_zip_file = shutil.make_archive(merge_2_inputs_path, \"zip\", merge_2_inputs_path)\n",
    "result = api.revisions_file_upload(\n",
    "    project_name=PROJECT_NAME,\n",
    "    deployment_name=merge_2_deployment_name,\n",
    "    version=\"v1\",\n",
    "    file=merge_2_zip_file\n",
    ")\n",
    "os.remove(merge_2_zip_file)"
   ]
  },
  {
   "cell_type": "code",
   "execution_count": null,
   "metadata": {},
   "outputs": [],
   "source": [
    "ubiops.utils.wait_for_deployment_version(client, PROJECT_NAME, create_2_deployment_name, \"v1\")\n",
    "ubiops.utils.wait_for_deployment_version(client, PROJECT_NAME, merge_2_deployment_name, \"v1\")"
   ]
  },
  {
   "cell_type": "markdown",
   "metadata": {},
   "source": [
    "### Create pipeline"
   ]
  },
  {
   "cell_type": "markdown",
   "metadata": {},
   "source": [
    "The following code block will create the pipeline as depicted in the previously showcased image.\n",
    "In this example, we will add one specific deployment twice to the pipeline to process each output separately. \n",
    "Note that these deployments will be seperated inside the pipeline by different reference names."
   ]
  },
  {
   "cell_type": "code",
   "execution_count": null,
   "metadata": {},
   "outputs": [],
   "source": [
    "pipeline_split_merge_name = \"pipeline-split-merge\"\n",
    "\n",
    "# Create pipeline\n",
    "pipeline_template = ubiops.PipelineCreate(\n",
    "    name=pipeline_split_merge_name,\n",
    "    input_type=\"structured\",\n",
    "    input_fields=input_variable,\n",
    "    output_type=\"structured\",\n",
    "    output_fields=output_variable\n",
    ")\n",
    "\n",
    "api.pipelines_create(\n",
    "    project_name=PROJECT_NAME,\n",
    "    data=pipeline_template\n",
    ")"
   ]
  },
  {
   "cell_type": "code",
   "execution_count": null,
   "metadata": {},
   "outputs": [],
   "source": [
    "create_2_pipeline_name = create_2_deployment_name\n",
    "add_5_pipeline_name_1 = f\"{add_5_deployment_name}-1\"\n",
    "add_5_pipeline_name_2 = f\"{add_5_deployment_name}-2\"\n",
    "merge_2_pipeline_name = merge_2_deployment_name\n",
    "\n",
    "objects = [\n",
    "    {\n",
    "        \"name\": create_2_pipeline_name,\n",
    "        \"reference_type\": \"deployment\",\n",
    "        \"reference_name\": create_2_deployment_name\n",
    "    },\n",
    "    {\n",
    "        \"name\": add_5_pipeline_name_1,\n",
    "        \"reference_type\": \"deployment\",\n",
    "        \"reference_name\": add_5_deployment_name\n",
    "    },\n",
    "    {\n",
    "        \"name\": add_5_pipeline_name_2,\n",
    "        \"reference_type\": \"deployment\",\n",
    "        \"reference_name\": add_5_deployment_name\n",
    "    },\n",
    "    {\n",
    "        \"name\": merge_2_pipeline_name,\n",
    "        \"reference_type\": \"deployment\",\n",
    "        \"reference_name\": merge_2_deployment_name\n",
    "    }\n",
    "]\n",
    "\n",
    "attachments = [\n",
    "    {\n",
    "        \"destination_name\": create_2_pipeline_name,\n",
    "        \"sources\": [\n",
    "            {\n",
    "                \"source_name\": \"pipeline_start\",\n",
    "                \"mapping\": [\n",
    "                    {\n",
    "                        \"source_field_name\": \"input\",\n",
    "                        \"destination_field_name\": \"input\"\n",
    "                    }\n",
    "                ]\n",
    "            }\n",
    "        ]\n",
    "    },\n",
    "    {\n",
    "        \"destination_name\": add_5_pipeline_name_1,\n",
    "        \"sources\": [\n",
    "            {\n",
    "                \"source_name\": create_2_pipeline_name,\n",
    "                \"mapping\": [\n",
    "                    {\n",
    "                        \"source_field_name\": output_variables_create_2[0].name,\n",
    "                        \"destination_field_name\": \"input\"\n",
    "                    }\n",
    "                ]\n",
    "            }\n",
    "        ]\n",
    "    },\n",
    "    {\n",
    "        \"destination_name\": add_5_pipeline_name_2,\n",
    "        \"sources\": [\n",
    "            {\n",
    "                \"source_name\": create_2_pipeline_name,\n",
    "                \"mapping\": [\n",
    "                    {\n",
    "                        \"source_field_name\": output_variables_create_2[1].name,\n",
    "                        \"destination_field_name\": \"input\"\n",
    "                    }\n",
    "                ]\n",
    "            }\n",
    "        ]\n",
    "    },\n",
    "    {\n",
    "        \"destination_name\": merge_2_pipeline_name,\n",
    "        \"sources\": [\n",
    "            {\n",
    "                \"source_name\": add_5_pipeline_name_1,\n",
    "                \"mapping\": [\n",
    "                    {\n",
    "                        \"source_field_name\": \"output\",\n",
    "                        \"destination_field_name\": input_variables_merge_2[0].name\n",
    "                    }\n",
    "                ]\n",
    "            },\n",
    "            {\n",
    "                \"source_name\": add_5_pipeline_name_2,\n",
    "                \"mapping\": [\n",
    "                    {\n",
    "                        \"source_field_name\": \"output\",\n",
    "                        \"destination_field_name\": input_variables_merge_2[1].name\n",
    "                    }\n",
    "                ]\n",
    "            }\n",
    "        ]\n",
    "    },\n",
    "    {\n",
    "        \"destination_name\": \"pipeline_end\",\n",
    "        \"sources\": [\n",
    "            {\n",
    "                \"source_name\": merge_2_pipeline_name,\n",
    "                \"mapping\": [\n",
    "                    {\n",
    "                        \"source_field_name\": \"output\",\n",
    "                        \"destination_field_name\": \"output\"\n",
    "                    }\n",
    "                ]\n",
    "            }\n",
    "        ]\n",
    "    }\n",
    "]\n",
    "\n",
    "pipeline_version_template = ubiops.PipelineVersionCreate(\n",
    "    version=\"v1\",\n",
    "    request_retention_mode='full',\n",
    "    objects=objects,\n",
    "    attachments=attachments\n",
    ")\n",
    "# Insert or otherwise update pipeline version\n",
    "api.pipeline_versions_create(\n",
    "    project_name=PROJECT_NAME,\n",
    "    pipeline_name=pipeline_split_merge_name,\n",
    "    data=pipeline_version_template\n",
    ")"
   ]
  },
  {
   "cell_type": "markdown",
   "metadata": {},
   "source": [
    "We can now send a request to this pipeline!"
   ]
  },
  {
   "cell_type": "markdown",
   "metadata": {},
   "source": [
    "#### Send pipeline request"
   ]
  },
  {
   "cell_type": "code",
   "execution_count": null,
   "metadata": {},
   "outputs": [],
   "source": [
    "api.pipeline_requests_create(\n",
    "    project_name=PROJECT_NAME,\n",
    "    pipeline_name=pipeline_split_merge_name,\n",
    "    data={\"input\": 5}\n",
    ")"
   ]
  },
  {
   "cell_type": "markdown",
   "metadata": {},
   "source": [
    "## Subpipelines"
   ]
  },
  {
   "cell_type": "markdown",
   "metadata": {},
   "source": [
    "Now we're going to showcase how to use a pipeline inside a pipeline.  \n",
    "We'll be cascading the two previously created pipelines into a single pipeline.  \n",
    "The pipeline layout is depicted in the following image:"
   ]
  },
  {
   "cell_type": "markdown",
   "metadata": {},
   "source": [
    "![Subpipelines-image](https://storage.googleapis.com/ubiops/tutorial-helper-files/pipeline-tutorial/Pipeline-in-pipeline.png)"
   ]
  },
  {
   "cell_type": "markdown",
   "metadata": {},
   "source": [
    "For this pipeline, we won't be needing to upload any new deployments. We can therefore immediately start creating our pipeline and specifying our pipeline version!"
   ]
  },
  {
   "cell_type": "markdown",
   "metadata": {},
   "source": [
    "### Create Pipeline"
   ]
  },
  {
   "cell_type": "markdown",
   "metadata": {},
   "source": [
    "Let's create our pipeline and corresponding version:"
   ]
  },
  {
   "cell_type": "code",
   "execution_count": null,
   "metadata": {},
   "outputs": [],
   "source": [
    "subpipeline_name = \"subpipeline-pipeline\"\n",
    "\n",
    "# Create pipeline\n",
    "pipeline_template = ubiops.PipelineCreate(\n",
    "    name=subpipeline_name,\n",
    "    input_type=\"structured\",\n",
    "    input_fields=input_variable,\n",
    "    output_type=\"structured\",\n",
    "    output_fields=output_variable\n",
    ")\n",
    "\n",
    "api.pipelines_create(\n",
    "    project_name=PROJECT_NAME,\n",
    "    data=pipeline_template\n",
    ")"
   ]
  },
  {
   "cell_type": "code",
   "execution_count": null,
   "metadata": {},
   "outputs": [],
   "source": [
    "basic_pipeline_pipeline_name = basic_pipeline_name\n",
    "split_merge_pipeline_pipeline_name = pipeline_split_merge_name\n",
    "\n",
    "objects = [\n",
    "    {\n",
    "        \"name\": basic_pipeline_pipeline_name,\n",
    "        \"reference_type\": \"pipeline\",\n",
    "        \"reference_name\": basic_pipeline_pipeline_name\n",
    "    },\n",
    "    {\n",
    "        \"name\": split_merge_pipeline_pipeline_name,\n",
    "        \"reference_type\": \"pipeline\",\n",
    "        \"reference_name\": split_merge_pipeline_pipeline_name\n",
    "    }\n",
    "]\n",
    "\n",
    "attachments = [\n",
    "    {\n",
    "        \"destination_name\": basic_pipeline_pipeline_name,\n",
    "        \"sources\": [\n",
    "            {\n",
    "                \"source_name\": \"pipeline_start\",\n",
    "                \"mapping\": [\n",
    "                    {\n",
    "                        \"source_field_name\": \"input\",\n",
    "                        \"destination_field_name\": \"input\"\n",
    "                    }\n",
    "                ]\n",
    "            }\n",
    "        ]\n",
    "    },\n",
    "    {\n",
    "        \"destination_name\": split_merge_pipeline_pipeline_name,\n",
    "        \"sources\": [\n",
    "            {\n",
    "                \"source_name\": basic_pipeline_pipeline_name,\n",
    "                \"mapping\": [\n",
    "                    {\n",
    "                        \"source_field_name\": \"output\",\n",
    "                        \"destination_field_name\": \"input\"\n",
    "                    }\n",
    "                ]\n",
    "            }\n",
    "        ]\n",
    "    },\n",
    "    {\n",
    "        \"destination_name\": \"pipeline_end\",\n",
    "        \"sources\": [\n",
    "            {\n",
    "                \"source_name\": split_merge_pipeline_pipeline_name,\n",
    "                \"mapping\": [\n",
    "                    {\n",
    "                        \"source_field_name\": \"output\",\n",
    "                        \"destination_field_name\": \"output\"\n",
    "                    }\n",
    "                ]\n",
    "            }\n",
    "        ]\n",
    "    }\n",
    "]\n",
    "\n",
    "pipeline_version_template = ubiops.PipelineVersionCreate(\n",
    "    version=\"v1\",\n",
    "    request_retention_mode='full',\n",
    "    objects=objects,\n",
    "    attachments=attachments\n",
    ")\n",
    "# Insert or otherwise update pipeline version\n",
    "api.pipeline_versions_create(\n",
    "    project_name=PROJECT_NAME,\n",
    "    pipeline_name=subpipeline_name,\n",
    "    data=pipeline_version_template\n",
    ")"
   ]
  },
  {
   "cell_type": "markdown",
   "metadata": {},
   "source": [
    "We can now send a request to this pipeline!"
   ]
  },
  {
   "cell_type": "markdown",
   "metadata": {},
   "source": [
    "#### Send pipeline request"
   ]
  },
  {
   "cell_type": "code",
   "execution_count": null,
   "metadata": {},
   "outputs": [],
   "source": [
    "api.pipeline_requests_create(\n",
    "    project_name=PROJECT_NAME,\n",
    "    pipeline_name=subpipeline_name,\n",
    "    data={\"input\": 5}\n",
    ")"
   ]
  },
  {
   "cell_type": "markdown",
   "metadata": {},
   "source": [
    "## Variables"
   ]
  },
  {
   "cell_type": "markdown",
   "metadata": {},
   "source": [
    "In this section, we will showcase pipeline variables.\n",
    "Pipeline variables are fixed variables that can be used in the pipeline.  \n",
    "The pipeline layout is depicted in the following image:"
   ]
  },
  {
   "cell_type": "markdown",
   "metadata": {},
   "source": [
    "![pipeline_variable_image](https://storage.googleapis.com/ubiops/tutorial-helper-files/pipeline-tutorial/Pipeline_Variable.png)"
   ]
  },
  {
   "cell_type": "markdown",
   "metadata": {},
   "source": [
    "In this pipeline, we'll be summing the input with the value of a pipeline variable.  \n",
    "Since we already have created the `sum-2-outputs` deployment in a previous stage, we won't be needing to upload any new deployments in this section. We can therefore immediately start with our pipeline code!"
   ]
  },
  {
   "cell_type": "markdown",
   "metadata": {},
   "source": [
    "### Pipeline code"
   ]
  },
  {
   "cell_type": "code",
   "execution_count": null,
   "metadata": {},
   "outputs": [],
   "source": [
    "pipeline_variable_name = \"pipeline-variable\"\n",
    "\n",
    "# Create pipeline\n",
    "pipeline_template = ubiops.PipelineCreate(\n",
    "    name=pipeline_variable_name,\n",
    "    input_type=\"structured\",\n",
    "    input_fields=input_variable,\n",
    "    output_type=\"structured\",\n",
    "    output_fields=output_variable\n",
    ")\n",
    "\n",
    "api.pipelines_create(\n",
    "    project_name=PROJECT_NAME,\n",
    "    data=pipeline_template\n",
    ")"
   ]
  },
  {
   "cell_type": "code",
   "execution_count": null,
   "metadata": {},
   "outputs": [],
   "source": [
    "# Variable Object\n",
    "variable_object = {\n",
    "    \"name\": \"variable\",\n",
    "    \"reference_name\": \"pipeline-variable\",\n",
    "    \"reference_type\": \"operator\",\n",
    "    \"configuration\": {\n",
    "        \"input_fields\": [],\n",
    "        \"output_fields\": [{\"name\": \"variable\", \"data_type\": \"int\"}],\n",
    "        \"output_values\": [{\"name\": \"variable\", \"value\": 1}]\n",
    "    }\n",
    "}\n",
    "\n",
    "objects = [\n",
    "    variable_object,\n",
    "    {\n",
    "        \"name\": merge_2_pipeline_name,\n",
    "        \"reference_type\": \"deployment\",\n",
    "        \"reference_name\": merge_2_deployment_name\n",
    "    }\n",
    "]\n",
    "\n",
    "attachments = [\n",
    "    # Pipeline Start + Variable -> Sum Inputs Deployment\n",
    "    {\n",
    "        \"destination_name\": merge_2_pipeline_name,\n",
    "        \"sources\": [\n",
    "            # Pipeline Start\n",
    "            {\n",
    "                \"source_name\": \"pipeline_start\",\n",
    "                \"mapping\": [{\n",
    "                    \"source_field_name\": \"input\",\n",
    "                    \"destination_field_name\": input_variables_merge_2[0].name\n",
    "                }]\n",
    "            },\n",
    "            # Variable\n",
    "            {\n",
    "                \"source_name\": variable_object[\"name\"],\n",
    "                \"mapping\": [{\n",
    "                    \"source_field_name\": variable_object[\"configuration\"][\"output_fields\"][0][\"name\"],\n",
    "                    \"destination_field_name\": input_variables_merge_2[1].name\n",
    "                }]\n",
    "\n",
    "            }]\n",
    "    },\n",
    "    # Sum Inputs Deployment -> Pipeline End\n",
    "    {\n",
    "        \"destination_name\": \"pipeline_end\",\n",
    "        \"sources\": [{\n",
    "            \"source_name\": merge_2_pipeline_name,\n",
    "            \"mapping\": [{\n",
    "                \"source_field_name\": \"output\",\n",
    "                \"destination_field_name\": \"output\"\n",
    "            }]\n",
    "        }]\n",
    "    }\n",
    "]\n",
    "\n",
    "pipeline_version_template = ubiops.PipelineVersionCreate(\n",
    "    version=\"v1\",\n",
    "    request_retention_mode='full',\n",
    "    objects=objects,\n",
    "    attachments=attachments\n",
    ")\n",
    "# Insert or otherwise update pipeline version\n",
    "api.pipeline_versions_create(\n",
    "    project_name=PROJECT_NAME,\n",
    "    pipeline_name=pipeline_variable_name,\n",
    "    data=pipeline_version_template\n",
    ")"
   ]
  },
  {
   "cell_type": "markdown",
   "metadata": {},
   "source": [
    "We can now send a request to this pipeline!"
   ]
  },
  {
   "cell_type": "markdown",
   "metadata": {},
   "source": [
    "#### Send pipeline request"
   ]
  },
  {
   "cell_type": "code",
   "execution_count": null,
   "metadata": {},
   "outputs": [],
   "source": [
    "api.pipeline_requests_create(\n",
    "    project_name=PROJECT_NAME,\n",
    "    pipeline_name=pipeline_variable_name,\n",
    "    data={\"input\": 5}\n",
    ")"
   ]
  },
  {
   "cell_type": "markdown",
   "metadata": {},
   "source": [
    "## Operators"
   ]
  },
  {
   "cell_type": "markdown",
   "metadata": {},
   "source": [
    "\n",
    "In this section, we will discuss the different operators that you can use with the UbiOps pipeline functionality.  \n",
    "The following operators will be discussed:\n",
    "\n",
    "- [Functions](https://ubiops.com/docs/pipelines/operators/#function)  \n",
    "    - Provides the ability to manipulate request data fields.\n",
    "- [Conditionals](https://ubiops.com/docs/pipelines/operators/#conditional-logic)  \n",
    "    - Provides the ability to conditionally choose the next object in the pipeline.\n",
    "- [Raise error](https://ubiops.com/docs/pipelines/operators/#raise-error)  \n",
    "    - Provides the ability to raise an error somewhere in the pipeline.\n",
    "- [Create + Collect Subrequests](https://ubiops.com/docs/pipelines/operators/#create-subrequests)  \n",
    "    - Provides the ability to parallelize subrequests over multiple instances of a deployment object.\n",
    "- [Count subrequests](https://ubiops.com/docs/pipelines/operators/#count-subrequests)  \n",
    "    - Provides the ability to count the number of subrequests."
   ]
  },
  {
   "cell_type": "markdown",
   "metadata": {},
   "source": [
    "### Functions"
   ]
  },
  {
   "cell_type": "markdown",
   "metadata": {},
   "source": [
    "Functions provide the ability to manipulate request data fields. \n",
    "In this example, we will create a function that multiplies the input by 5.  \n",
    "The layout of the pipeline is depicted in the following image:"
   ]
  },
  {
   "cell_type": "markdown",
   "metadata": {},
   "source": [
    "![pipeline_function_image](https://storage.googleapis.com/ubiops/tutorial-helper-files/pipeline-tutorial/Pipeline_Function.png)"
   ]
  },
  {
   "cell_type": "markdown",
   "metadata": {},
   "source": [
    "In this pipeline, we'll be multiplying the pipeline input by 5 with a pipeline function.  \n",
    "As we can see in the image, we only use a function in the pipeline. This can be specified in the pipeline code, so we can start creating our pipeline code immediately!"
   ]
  },
  {
   "cell_type": "markdown",
   "metadata": {},
   "source": [
    "### Pipeline Code"
   ]
  },
  {
   "cell_type": "code",
   "execution_count": null,
   "metadata": {},
   "outputs": [],
   "source": [
    "pipeline_function_name = \"pipeline-function\"\n",
    "\n",
    "# Create pipeline\n",
    "pipeline_template = ubiops.PipelineCreate(\n",
    "    name=pipeline_function_name,\n",
    "    input_type=\"structured\",\n",
    "    input_fields=input_variable,\n",
    "    output_type=\"structured\",\n",
    "    output_fields=output_variable\n",
    ")\n",
    "\n",
    "api.pipelines_create(\n",
    "    project_name=PROJECT_NAME,\n",
    "    data=pipeline_template\n",
    ")"
   ]
  },
  {
   "cell_type": "code",
   "execution_count": null,
   "metadata": {},
   "outputs": [],
   "source": [
    "# Use same variable names as pipeline\n",
    "function_name = \"operator-function\"\n",
    "\n",
    "# Create the function object\n",
    "function_object = {\n",
    "    \"name\": function_name,\n",
    "    \"reference_name\": \"function\",\n",
    "    \"reference_type\": \"operator\",\n",
    "    \"configuration\": {\n",
    "        \"expression\": f\"input * 5\",\n",
    "        \"input_fields\": [\n",
    "            {\n",
    "                \"name\": \"input\",\n",
    "                \"data_type\": \"int\"\n",
    "            }\n",
    "        ],\n",
    "        \"output_fields\": [\n",
    "            {\n",
    "                \"name\": \"output\",\n",
    "                \"data_type\": \"int\"\n",
    "            }\n",
    "        ]\n",
    "    }\n",
    "}\n",
    "\n",
    "objects = [function_object]\n",
    "# Specify the attachments\n",
    "attachments = [\n",
    "    # Pipeline start -> Function\n",
    "    {\n",
    "        'destination_name': function_name,\n",
    "        'sources': [{\n",
    "            'source_name': 'pipeline_start',\n",
    "            'mapping': [{\n",
    "                \"source_field_name\": \"input\",\n",
    "                \"destination_field_name\": \"input\"\n",
    "            }]\n",
    "        }]\n",
    "    },\n",
    "    # Function -> Pipeline end\n",
    "    {\n",
    "        'destination_name': 'pipeline_end',\n",
    "        'sources': [{\n",
    "            'source_name': function_name,\n",
    "            'mapping': [{\n",
    "                \"source_field_name\": \"output\",\n",
    "                \"destination_field_name\": \"output\"\n",
    "            }]\n",
    "        }]\n",
    "    }\n",
    "]\n",
    "\n",
    "pipeline_version_template = ubiops.PipelineVersionCreate(\n",
    "    version=\"v1\",\n",
    "    request_retention_mode='full',\n",
    "    objects=objects,\n",
    "    attachments=attachments\n",
    ")\n",
    "# Insert or otherwise update pipeline version\n",
    "api.pipeline_versions_create(\n",
    "    project_name=PROJECT_NAME,\n",
    "    pipeline_name=pipeline_function_name,\n",
    "    data=pipeline_version_template\n",
    ")"
   ]
  },
  {
   "cell_type": "markdown",
   "metadata": {},
   "source": [
    "We can now send a request to this pipeline!"
   ]
  },
  {
   "cell_type": "markdown",
   "metadata": {},
   "source": [
    "#### Send pipeline request"
   ]
  },
  {
   "cell_type": "code",
   "execution_count": null,
   "metadata": {},
   "outputs": [],
   "source": [
    "api.pipeline_requests_create(\n",
    "    project_name=PROJECT_NAME,\n",
    "    pipeline_name=pipeline_function_name,\n",
    "    data={\"input\": 5}\n",
    ")"
   ]
  },
  {
   "cell_type": "markdown",
   "metadata": {},
   "source": [
    "### Conditionals"
   ]
  },
  {
   "cell_type": "markdown",
   "metadata": {},
   "source": [
    "The Conditional Logic operator provides the ability to conditionally choose the next object in the pipeline.  \n",
    "In this example, we will create a conditional that checks if the input is greater than or equal to 10. \n",
    "Depending on the outcome, either one of two variables will be used in the next deployment.  \n",
    "The layout of the pipeline is depicted in the following image:"
   ]
  },
  {
   "cell_type": "markdown",
   "metadata": {},
   "source": [
    "![pipeline_condition_image](https://storage.googleapis.com/ubiops/tutorial-helper-files/pipeline-tutorial/Pipeline_Conditional.png)"
   ]
  },
  {
   "cell_type": "markdown",
   "metadata": {},
   "source": [
    "Since we have already deployed the `add-5` deployment, we can continue immediately to the pipeline code!"
   ]
  },
  {
   "cell_type": "markdown",
   "metadata": {},
   "source": [
    "### Pipeline code"
   ]
  },
  {
   "cell_type": "code",
   "execution_count": null,
   "metadata": {},
   "outputs": [],
   "source": [
    "pipeline_conditional_name = \"pipeline-conditional\"\n",
    "\n",
    "# Create pipeline\n",
    "pipeline_template = ubiops.PipelineCreate(\n",
    "    name=pipeline_conditional_name,\n",
    "    input_type=\"structured\",\n",
    "    input_fields=input_variable,\n",
    "    output_type=\"structured\",\n",
    "    output_fields=output_variable\n",
    ")\n",
    "\n",
    "api.pipelines_create(\n",
    "    project_name=PROJECT_NAME,\n",
    "    data=pipeline_template\n",
    ")"
   ]
  },
  {
   "cell_type": "code",
   "execution_count": null,
   "metadata": {},
   "outputs": [],
   "source": [
    "variable1_name = \"variable1\"\n",
    "variable2_name = \"variable2\"\n",
    "variable_objects = [{\n",
    "    \"name\": name,\n",
    "    \"reference_name\": \"pipeline-variable\",\n",
    "    \"reference_type\": \"operator\",\n",
    "    \"configuration\": {\n",
    "        \"input_fields\": [],\n",
    "        \"output_fields\": [{\"name\": name, \"data_type\": \"int\"}],\n",
    "        \"output_values\": [{\"name\": name, \"value\": value}]\n",
    "    }\n",
    "} for name, value in zip([variable1_name, variable2_name], [10, 20])]\n",
    "\n",
    "input_condition_name = \"input\"\n",
    "\n",
    "if_condition = {\n",
    "    \"name\": \"if-condition\",\n",
    "    \"reference_type\": \"operator\",\n",
    "    \"reference_name\": \"if-condition\",\n",
    "    \"configuration\": {\n",
    "        \"expression\": f\"input < 10\",\n",
    "        \"input_fields\": [\n",
    "            {\n",
    "                \"name\": \"input\",\n",
    "                \"data_type\": \"int\"\n",
    "            }\n",
    "        ],\n",
    "        \"output_fields\": []\n",
    "    }\n",
    "}\n",
    "\n",
    "else_condition = {\n",
    "    \"name\": \"else-condition\",\n",
    "    \"reference_type\": \"operator\",\n",
    "    \"reference_name\": \"if-condition\",\n",
    "    \"configuration\": {\n",
    "        \"expression\": f\"input >= 10\",\n",
    "        \"input_fields\": [\n",
    "            {\n",
    "                \"name\": \"input\",\n",
    "                \"data_type\": \"int\"\n",
    "            }\n",
    "        ],\n",
    "        \"output_fields\": []\n",
    "    }\n",
    "}\n",
    "\n",
    "objects = [if_condition, else_condition, pipeline_add_object] + variable_objects\n",
    "\n",
    "attachments = [\n",
    "    # pipeline_start -> if_condition\n",
    "    {\n",
    "        'destination_name': if_condition[\"name\"],\n",
    "        'sources': [{\n",
    "            'source_name': 'pipeline_start',\n",
    "            'mapping': [{\n",
    "                \"source_field_name\": \"input\",\n",
    "                \"destination_field_name\": \"input\"\n",
    "            }]\n",
    "        }]\n",
    "    },\n",
    "    # pipeline_start -> else_condition\n",
    "    {\n",
    "        'destination_name': else_condition[\"name\"],\n",
    "        'sources': [{\n",
    "            'source_name': 'pipeline_start',\n",
    "            'mapping': [{\n",
    "                \"source_field_name\": \"input\",\n",
    "                \"destination_field_name\": \"input\"\n",
    "            }]\n",
    "        }]\n",
    "    },\n",
    "    # if_condition + variable1 -> add_5_deployment\n",
    "    {\n",
    "        'destination_name': pipeline_add_name,\n",
    "        'sources': [\n",
    "            {\n",
    "                'source_name': if_condition[\"name\"],\n",
    "                'mapping': []\n",
    "            },\n",
    "            {\n",
    "                \"source_name\": variable1_name,\n",
    "                \"mapping\": [{\n",
    "                    \"source_field_name\": variable1_name,\n",
    "                    \"destination_field_name\": \"input\"\n",
    "                }]\n",
    "            }]\n",
    "    },\n",
    "    # else_condition + variable2 -> add_5_deployment\n",
    "    {\n",
    "        'destination_name': pipeline_add_name,\n",
    "        'sources': [\n",
    "            {\n",
    "                'source_name': else_condition[\"name\"],\n",
    "                'mapping': []\n",
    "            },\n",
    "            {\n",
    "                \"source_name\": variable2_name,\n",
    "                \"mapping\": [{\n",
    "                    \"source_field_name\": variable2_name,\n",
    "                    \"destination_field_name\": \"input\"\n",
    "                }]\n",
    "            }]\n",
    "    },\n",
    "    # add_5_deployment -> pipeline_end\n",
    "    {\n",
    "        'destination_name': 'pipeline_end',\n",
    "        'sources': [{\n",
    "            'source_name': pipeline_add_name,\n",
    "            'mapping': [{\n",
    "                \"source_field_name\": \"output\",\n",
    "                \"destination_field_name\": \"output\"\n",
    "            }]\n",
    "        }]\n",
    "    }\n",
    "]\n",
    "\n",
    "# Insert or otherwise update pipeline version\n",
    "pipeline_version_template = ubiops.PipelineVersionCreate(\n",
    "    version=\"v1\",\n",
    "    request_retention_mode='full',\n",
    "    objects=objects,\n",
    "    attachments=attachments\n",
    ")\n",
    "# Insert or otherwise update pipeline version\n",
    "api.pipeline_versions_create(\n",
    "    project_name=PROJECT_NAME,\n",
    "    pipeline_name=pipeline_conditional_name,\n",
    "    data=pipeline_version_template\n",
    ")"
   ]
  },
  {
   "cell_type": "markdown",
   "metadata": {},
   "source": [
    "We can now send a request to this pipeline!"
   ]
  },
  {
   "cell_type": "markdown",
   "metadata": {},
   "source": [
    "#### Send pipeline request"
   ]
  },
  {
   "cell_type": "code",
   "execution_count": null,
   "metadata": {},
   "outputs": [],
   "source": [
    "api.pipeline_requests_create(\n",
    "    project_name=PROJECT_NAME,\n",
    "    pipeline_name=pipeline_conditional_name,\n",
    "    data={\"input\": 5}\n",
    ")"
   ]
  },
  {
   "cell_type": "markdown",
   "metadata": {},
   "source": [
    "### Raise error"
   ]
  },
  {
   "cell_type": "markdown",
   "metadata": {},
   "source": [
    "The `Raise Error` operator provides the ability to raise an error somewhere in the pipeline.  \n",
    "In this example, we'll build a pipeline that throws an error if the input is greater than or equal to 10.  \n",
    "The layout of the pipeline is depicted in the following image:"
   ]
  },
  {
   "cell_type": "markdown",
   "metadata": {},
   "source": [
    "![pipeline_raise_error_image](https://storage.googleapis.com/ubiops/tutorial-helper-files/pipeline-tutorial/Pipeline_Raise_Error.png)"
   ]
  },
  {
   "cell_type": "markdown",
   "metadata": {},
   "source": [
    "Let's dive straight into the pipeline code"
   ]
  },
  {
   "cell_type": "markdown",
   "metadata": {},
   "source": [
    "### Pipeline code"
   ]
  },
  {
   "cell_type": "code",
   "execution_count": null,
   "metadata": {},
   "outputs": [],
   "source": [
    "pipeline_raise_name = \"pipeline-raise\"\n",
    "\n",
    "# Create pipeline\n",
    "pipeline_template = ubiops.PipelineCreate(\n",
    "    name=pipeline_raise_name,\n",
    "    input_type=\"structured\",\n",
    "    input_fields=input_variable,\n",
    "    output_type=\"structured\",\n",
    "    output_fields=output_variable\n",
    ")\n",
    "\n",
    "api.pipelines_create(\n",
    "    project_name=PROJECT_NAME,\n",
    "    data=pipeline_template\n",
    ")"
   ]
  },
  {
   "cell_type": "code",
   "execution_count": null,
   "metadata": {},
   "outputs": [],
   "source": [
    "if_condition = {\n",
    "    \"name\": \"if-condition\",\n",
    "    \"reference_type\": \"operator\",\n",
    "    \"reference_name\": \"if-condition\",\n",
    "    \"configuration\": {\n",
    "        \"expression\": f\"input >= 10\",\n",
    "        \"input_fields\": [\n",
    "            {\n",
    "                \"name\": \"input\",\n",
    "                \"data_type\": \"int\"\n",
    "            }\n",
    "        ],\n",
    "        \"output_fields\": []\n",
    "    }\n",
    "}\n",
    "\n",
    "raise_error_object = {\n",
    "    \"name\": \"operator-raise-error\",\n",
    "    \"reference_name\": \"raise-error\",\n",
    "    \"reference_type\": \"operator\",\n",
    "    \"configuration\": {\n",
    "        \"error_message\": \"My error message!\",\n",
    "        \"input_fields\": [],\n",
    "        \"output_fields\": []\n",
    "    }\n",
    "}\n",
    "\n",
    "objects = [\n",
    "    if_condition,\n",
    "    raise_error_object\n",
    "]\n",
    "\n",
    "attachments = [\n",
    "    # pipeline_start -> if_condition\n",
    "    {\n",
    "        'destination_name': if_condition[\"name\"],\n",
    "        'sources': [{\n",
    "            'source_name': 'pipeline_start',\n",
    "            'mapping': [{\n",
    "                \"source_field_name\": \"input\",\n",
    "                \"destination_field_name\": \"input\"\n",
    "            }]\n",
    "        }]\n",
    "    },\n",
    "\n",
    "    # pipeline_start -> pipeline_end\n",
    "    {\n",
    "        'destination_name': 'pipeline_end',\n",
    "        'sources': [{\n",
    "            'source_name': \"pipeline_start\",\n",
    "            'mapping': [{\n",
    "                \"source_field_name\": \"input\",\n",
    "                \"destination_field_name\": \"output\"\n",
    "            }]\n",
    "        }]\n",
    "    },\n",
    "\n",
    "    # if_condition -> raise_error\n",
    "    {\n",
    "        'destination_name': raise_error_object[\"name\"],\n",
    "        'sources': [{\n",
    "            'source_name': if_condition[\"name\"],\n",
    "            'mapping': []\n",
    "        }]\n",
    "    }\n",
    "]\n",
    "\n",
    "# Insert or otherwise update pipeline version\n",
    "pipeline_version_template = ubiops.PipelineVersionCreate(\n",
    "    version=\"v1\",\n",
    "    request_retention_mode='full',\n",
    "    objects=objects,\n",
    "    attachments=attachments\n",
    ")\n",
    "# Insert or otherwise update pipeline version\n",
    "api.pipeline_versions_create(\n",
    "    project_name=PROJECT_NAME,\n",
    "    pipeline_name=pipeline_raise_name,\n",
    "    data=pipeline_version_template\n",
    ")"
   ]
  },
  {
   "cell_type": "markdown",
   "metadata": {},
   "source": [
    "We can now send a request to this pipeline!"
   ]
  },
  {
   "cell_type": "markdown",
   "metadata": {},
   "source": [
    "#### Send pipeline request"
   ]
  },
  {
   "cell_type": "markdown",
   "metadata": {},
   "source": [
    "##### Error trigger"
   ]
  },
  {
   "cell_type": "code",
   "execution_count": null,
   "metadata": {},
   "outputs": [],
   "source": [
    "api.pipeline_requests_create(\n",
    "    project_name=PROJECT_NAME,\n",
    "    pipeline_name=pipeline_raise_name,\n",
    "    data={\"input\": 15}\n",
    ")"
   ]
  },
  {
   "cell_type": "markdown",
   "metadata": {},
   "source": [
    "##### Success"
   ]
  },
  {
   "cell_type": "code",
   "execution_count": null,
   "metadata": {},
   "outputs": [],
   "source": [
    "api.pipeline_requests_create(\n",
    "    project_name=PROJECT_NAME,\n",
    "    pipeline_name=pipeline_raise_name,\n",
    "    data={\"input\": 5}\n",
    ")"
   ]
  },
  {
   "cell_type": "markdown",
   "metadata": {},
   "source": [
    "### Create + Collect subrequests"
   ]
  },
  {
   "cell_type": "markdown",
   "metadata": {},
   "source": [
    "In this section, we will focus on the Create and Collect subrequests operators.\n",
    "\n",
    "These operators take care of the following:  \n",
    "- `Create Subrequests`: The Create Subrequests operator (`one-to-many`) provides the ability to parallelize subrequests over multiple instances of a deployment object.\n",
    "For more information, read the corresponding [documentation page](https://ubiops.com/docs/pipelines/operators/#create-subrequests).\n",
    "- `Collect Subrequests`: The Collect Subrequests operator (`many-to-one`) provides the ability to wait for all parallelized requests to be finished and sent all subrequests as a single list to the next object. Which means that it stops parallelization created by the Create Subrequests operator.\n",
    "For more information, read the corresponding [documentation page](https://ubiops.com/docs/pipelines/operators/#collect-subrequests).  \n",
    "\n",
    "The layout of the pipeline is depicted in the following image:  "
   ]
  },
  {
   "cell_type": "markdown",
   "metadata": {},
   "source": [
    "![pipeline_create_collect](https://storage.googleapis.com/ubiops/tutorial-helper-files/pipeline-tutorial/Pipeline-Create-Collect.png)"
   ]
  },
  {
   "cell_type": "markdown",
   "metadata": {},
   "source": [
    "In this pipeline, we will calculate the sum of a range of numbers, where 5 will be added to each number in the range of numbers. \n",
    "The addition will be done in parallel with the `Create` and `Collect` subrequests operator.  \n",
    "For this pipeline, we need to introduce 2 new deployments: `create-subrequests` and `collect-subrequests`. Let's start with uploading these deployments to UbiOps!"
   ]
  },
  {
   "cell_type": "markdown",
   "metadata": {},
   "source": [
    "### Deployment code"
   ]
  },
  {
   "cell_type": "markdown",
   "metadata": {},
   "source": [
    "Let's create our deployment code to use with the `Create` and `Collect` Subrequests operators.\n",
    "Note the use of the `request` and `requests` methods for the create and collect deployment respectively.\n",
    "For more information on the difference between these 2 methods, refer to the [documentation page](https://ubiops.com/docs/pipelines/operators/#collect-subrequests) for more detailed information."
   ]
  },
  {
   "cell_type": "code",
   "execution_count": null,
   "metadata": {},
   "outputs": [],
   "source": [
    "create_subrequests_deployment_name = \"create-subrequests-deployment\"\n",
    "collect_subrequests_deployment_name = \"collect-subrequests-deployment\"\n",
    "\n",
    "create_subrequests_deployment_path = f\"{deployment_directory}/{create_subrequests_deployment_name}\"\n",
    "collect_subrequests_deployment_path = f\"{deployment_directory}/{collect_subrequests_deployment_name}\"\n",
    "\n",
    "os.makedirs(create_subrequests_deployment_path, exist_ok=True)\n",
    "os.makedirs(collect_subrequests_deployment_path, exist_ok=True)"
   ]
  },
  {
   "cell_type": "code",
   "execution_count": null,
   "metadata": {},
   "outputs": [],
   "source": [
    "%%writefile {create_subrequests_deployment_path}/deployment.py\n",
    "\n",
    "class Deployment:\n",
    "    def __init__(self):\n",
    "        pass\n",
    "\n",
    "    def request(self, data):\n",
    "        return [{\"output\": x} for x in range(data[\"input\"])]\n"
   ]
  },
  {
   "cell_type": "code",
   "execution_count": null,
   "metadata": {},
   "outputs": [],
   "source": [
    "%%writefile {collect_subrequests_deployment_path}/deployment.py\n",
    "\n",
    "class Deployment:\n",
    "    def __init__(self):\n",
    "        pass\n",
    "\n",
    "    def requests(self, data):\n",
    "        return {\"output\": sum([x[\"input\"] for x in data])}\n"
   ]
  },
  {
   "cell_type": "markdown",
   "metadata": {},
   "source": [
    "#### Upload to UbiOps"
   ]
  },
  {
   "cell_type": "code",
   "execution_count": null,
   "metadata": {},
   "outputs": [],
   "source": [
    "deployment_template_multiply = ubiops.DeploymentCreate(\n",
    "    name=create_subrequests_deployment_name,\n",
    "    description=\"Deployment that creates output for subrequests\",\n",
    "    input_type=\"structured\",\n",
    "    input_fields=input_variable,\n",
    "    output_type=\"structured\",\n",
    "    output_fields=output_variable\n",
    ")\n",
    "\n",
    "deployment_template_add = ubiops.DeploymentCreate(\n",
    "    name=collect_subrequests_deployment_name,\n",
    "    description=\"Deployment that sums the outputs of subrequests\",\n",
    "    input_type=\"structured\",\n",
    "    input_fields=input_variable,\n",
    "    output_type=\"structured\",\n",
    "    output_fields=output_variable\n",
    ")\n",
    "\n",
    "api.deployments_create(PROJECT_NAME, deployment_template_multiply)\n",
    "api.deployments_create(PROJECT_NAME, deployment_template_add)"
   ]
  },
  {
   "cell_type": "code",
   "execution_count": null,
   "metadata": {},
   "outputs": [],
   "source": [
    "#### Create Deployment versions\n",
    "deployment_version_template = ubiops.DeploymentVersionCreate(\n",
    "    version=\"v1\",\n",
    "    environment='python3-11',\n",
    "    instance_type='512mb',\n",
    "    minimum_instances=0,\n",
    "    maximum_instances=1,\n",
    "    maximum_idle_time=300,  # = 30 minutes\n",
    "    request_retention_mode='full'\n",
    ")\n",
    "\n",
    "api.deployment_versions_create(\n",
    "    project_name=PROJECT_NAME,\n",
    "    deployment_name=create_subrequests_deployment_name,\n",
    "    data=deployment_version_template\n",
    ")\n",
    "\n",
    "api.deployment_versions_create(\n",
    "    project_name=PROJECT_NAME,\n",
    "    deployment_name=collect_subrequests_deployment_name,\n",
    "    data=deployment_version_template\n",
    ")"
   ]
  },
  {
   "cell_type": "code",
   "execution_count": null,
   "metadata": {},
   "outputs": [],
   "source": [
    "create_subrequests_zip_file = shutil.make_archive(create_subrequests_deployment_path, 'zip', create_subrequests_deployment_path)\n",
    "api.revisions_file_upload(\n",
    "    project_name=PROJECT_NAME,\n",
    "    deployment_name=create_subrequests_deployment_name,\n",
    "    version=\"v1\",\n",
    "    file=create_subrequests_zip_file\n",
    ")\n",
    "\n",
    "collect_subrequests_zip_file = shutil.make_archive(collect_subrequests_deployment_path, 'zip', collect_subrequests_deployment_path)\n",
    "api.revisions_file_upload(\n",
    "    project_name=PROJECT_NAME,\n",
    "    deployment_name=collect_subrequests_deployment_name,\n",
    "    version=\"v1\",\n",
    "    file=collect_subrequests_zip_file\n",
    ")\n",
    "\n",
    "# # Remove the zip file\n",
    "os.remove(create_subrequests_zip_file)\n",
    "os.remove(collect_subrequests_zip_file)\n",
    "\n",
    "ubiops.utils.wait_for_deployment_version(client, PROJECT_NAME, create_subrequests_deployment_name, \"v1\")\n",
    "ubiops.utils.wait_for_deployment_version(client, PROJECT_NAME, collect_subrequests_deployment_name, \"v1\")"
   ]
  },
  {
   "cell_type": "markdown",
   "metadata": {},
   "source": [
    "Now that all the necessary deployments have been uploaded to UbiOps, we can start with the pipeline code."
   ]
  },
  {
   "cell_type": "markdown",
   "metadata": {},
   "source": [
    "### Pipeline code"
   ]
  },
  {
   "cell_type": "markdown",
   "metadata": {},
   "source": [
    "Now it's time to create our pipeline and upload it to UbiOps"
   ]
  },
  {
   "cell_type": "code",
   "execution_count": null,
   "metadata": {},
   "outputs": [],
   "source": [
    "pipeline_create_subrequests_name = \"pipeline-create-collect-subrequests\"\n",
    "\n",
    "# Create pipeline\n",
    "pipeline_template = ubiops.PipelineCreate(\n",
    "    name=pipeline_create_subrequests_name,\n",
    "    input_type=\"structured\",\n",
    "    input_fields=input_variable,\n",
    "    output_type=\"structured\",\n",
    "    output_fields=output_variable\n",
    ")\n",
    "\n",
    "api.pipelines_create(\n",
    "    project_name=PROJECT_NAME,\n",
    "    data=pipeline_template\n",
    ")"
   ]
  },
  {
   "cell_type": "code",
   "execution_count": null,
   "metadata": {},
   "outputs": [],
   "source": [
    "pipeline_create_sub_deployment_name = create_subrequests_deployment_name\n",
    "pipeline_collect_sub_name = collect_subrequests_deployment_name\n",
    "\n",
    "deployment_objects = [\n",
    "    {\n",
    "        \"name\": pipeline_create_sub_deployment_name,\n",
    "        \"reference_type\": \"deployment\",\n",
    "        \"reference_name\": create_subrequests_deployment_name,\n",
    "    },\n",
    "    {\n",
    "        \"name\": pipeline_collect_sub_name,\n",
    "        \"reference_type\": \"deployment\",\n",
    "        \"reference_name\": collect_subrequests_deployment_name,\n",
    "    }\n",
    "]\n",
    "\n",
    "one_to_many_object = {\n",
    "    \"name\": \"operator-one-to-many\",\n",
    "    \"reference_name\": \"one-to-many\",\n",
    "    \"reference_type\": \"operator\",\n",
    "    \"configuration\": {\n",
    "        \"batch_size\": 2,\n",
    "        \"input_fields\": [{\"name\": \"input\", \"data_type\": \"int\"}],\n",
    "        \"output_fields\": [{\"name\": \"input\", \"data_type\": \"int\"}]\n",
    "    }\n",
    "}\n",
    "\n",
    "many_to_one_object = {\n",
    "    \"name\": \"operator-many-to-one\",\n",
    "    \"reference_name\": \"many-to-one\",\n",
    "    \"reference_type\": \"operator\",\n",
    "    \"configuration\": {\n",
    "        \"input_fields\": [{\"name\": \"output\", \"data_type\": \"int\"}],\n",
    "        \"output_fields\": [{\"name\": \"output\", \"data_type\": \"int\"}]\n",
    "    }\n",
    "}\n",
    "\n",
    "objects = deployment_objects + [pipeline_add_object, one_to_many_object, many_to_one_object]\n",
    "\n",
    "attachments = [\n",
    "    # pipeline_start -> deployment_create\n",
    "    {\n",
    "        'destination_name': pipeline_create_sub_deployment_name,\n",
    "        'sources': [{\n",
    "            'source_name': 'pipeline_start',\n",
    "            'mapping': [{\n",
    "                \"source_field_name\": \"input\",\n",
    "                \"destination_field_name\": \"input\"\n",
    "            }]\n",
    "        }]\n",
    "    },\n",
    "    # deployment_create -> operator-one-to-many\n",
    "    {\n",
    "        'destination_name': one_to_many_object[\"name\"],\n",
    "        'sources': [{\n",
    "            'source_name': pipeline_create_sub_deployment_name,\n",
    "            'mapping': [{\n",
    "                \"source_field_name\": \"output\",\n",
    "                \"destination_field_name\": \"input\"\n",
    "            }]\n",
    "        }]\n",
    "    },\n",
    "    # operator-one-to-many -> deployment_add_5\n",
    "    {\n",
    "        'destination_name': pipeline_add_name,\n",
    "        'sources': [{\n",
    "            'source_name': one_to_many_object[\"name\"],\n",
    "            'mapping': [{\n",
    "                \"source_field_name\": \"input\",\n",
    "                \"destination_field_name\": \"input\"\n",
    "            }]\n",
    "        }]\n",
    "    },\n",
    "    # deployment_add_5 -> operator-many-to-one\n",
    "    {\n",
    "        'destination_name': many_to_one_object[\"name\"],\n",
    "        'sources': [{\n",
    "            'source_name': pipeline_add_name,\n",
    "            'mapping': [{\n",
    "                \"source_field_name\": \"output\",\n",
    "                \"destination_field_name\": \"output\"\n",
    "            }]\n",
    "        }]\n",
    "    },\n",
    "    # operator-many-to-one -> deployment_collect\n",
    "    {\n",
    "        'destination_name': pipeline_collect_sub_name,\n",
    "        'sources': [{\n",
    "            'source_name': many_to_one_object[\"name\"],\n",
    "            'mapping': [{\n",
    "                \"source_field_name\": \"output\",\n",
    "                \"destination_field_name\": \"input\"\n",
    "            }]\n",
    "        }]\n",
    "    },\n",
    "    # deployment_collect -> pipeline_end\n",
    "    {\n",
    "        'destination_name': 'pipeline_end',\n",
    "        'sources': [{\n",
    "            'source_name': pipeline_collect_sub_name,\n",
    "            'mapping': [{\n",
    "                \"source_field_name\": \"output\",\n",
    "                \"destination_field_name\": \"output\"\n",
    "            }]\n",
    "        }]\n",
    "    }\n",
    "]\n",
    "\n",
    "# Insert or otherwise update pipeline version\n",
    "pipeline_version_template = ubiops.PipelineVersionCreate(\n",
    "    version=\"v1\",\n",
    "    request_retention_mode='full',\n",
    "    objects=objects,\n",
    "    attachments=attachments\n",
    ")\n",
    "# Insert or otherwise update pipeline version\n",
    "api.pipeline_versions_create(\n",
    "    project_name=PROJECT_NAME,\n",
    "    pipeline_name=pipeline_create_subrequests_name,\n",
    "    data=pipeline_version_template\n",
    ")"
   ]
  },
  {
   "cell_type": "markdown",
   "metadata": {},
   "source": [
    "We can now send a request to this pipeline!"
   ]
  },
  {
   "cell_type": "markdown",
   "metadata": {},
   "source": [
    "#### Send pipeline request"
   ]
  },
  {
   "cell_type": "code",
   "execution_count": null,
   "metadata": {},
   "outputs": [],
   "source": [
    "api.pipeline_requests_create(\n",
    "    project_name=PROJECT_NAME,\n",
    "    pipeline_name=pipeline_create_subrequests_name,\n",
    "    data={\"input\": 5}\n",
    ")"
   ]
  },
  {
   "cell_type": "markdown",
   "metadata": {},
   "source": [
    "### Count subrequests"
   ]
  },
  {
   "cell_type": "markdown",
   "metadata": {},
   "source": [
    "At last, we will discuss the Count Subrequests operator. \n",
    "The Count Subrequests operator provides the ability to count the number of subrequests.\n",
    "The layout of the pipeline is depicted in the following image:"
   ]
  },
  {
   "cell_type": "markdown",
   "metadata": {},
   "source": [
    "\n",
    "![pipeline_count_subrequests](https://storage.googleapis.com/ubiops/tutorial-helper-files/pipeline-tutorial/Pipeline_Count.png)"
   ]
  },
  {
   "cell_type": "markdown",
   "metadata": {},
   "source": [
    "Since we have uploaded the `create-subrequests` deployment in the previous section, we can immediately continue to the pipeline code."
   ]
  },
  {
   "cell_type": "markdown",
   "metadata": {},
   "source": [
    "### Pipeline code"
   ]
  },
  {
   "cell_type": "code",
   "execution_count": null,
   "metadata": {},
   "outputs": [],
   "source": [
    "pipeline_count_subrequests_name = \"pipeline-count-subrequests\"\n",
    "\n",
    "# Create pipeline\n",
    "pipeline_template = ubiops.PipelineCreate(\n",
    "    name=pipeline_count_subrequests_name,\n",
    "    input_type=\"structured\",\n",
    "    input_fields=input_variable,\n",
    "    output_type=\"structured\",\n",
    "    output_fields=output_variable\n",
    ")\n",
    "\n",
    "api.pipelines_create(\n",
    "    project_name=PROJECT_NAME,\n",
    "    data=pipeline_template\n",
    ")"
   ]
  },
  {
   "cell_type": "code",
   "execution_count": null,
   "metadata": {},
   "outputs": [],
   "source": [
    "count_many_object = {\n",
    "    \"name\": \"operator-count-many\",\n",
    "    \"reference_name\": \"count-many\",\n",
    "    \"reference_type\": \"operator\",\n",
    "    \"configuration\": {\n",
    "        \"input_fields\": [],\n",
    "        \"output_fields\": [{\"name\": \"output\", \"data_type\": \"int\"}]\n",
    "    }\n",
    "}\n",
    "\n",
    "objects = [\n",
    "    {\n",
    "        \"name\": pipeline_create_sub_deployment_name,\n",
    "        \"reference_type\": \"deployment\",\n",
    "        \"reference_name\": create_subrequests_deployment_name,\n",
    "    },\n",
    "    count_many_object\n",
    "]\n",
    "\n",
    "\n",
    "attachments = [\n",
    "    # pipeline_start -> deployment_create\n",
    "    {\n",
    "        'destination_name': pipeline_create_sub_deployment_name,\n",
    "        'sources': [{\n",
    "            'source_name': 'pipeline_start',\n",
    "            'mapping': [{\n",
    "                \"source_field_name\": \"input\",\n",
    "                \"destination_field_name\": \"input\"\n",
    "            }]\n",
    "        }]\n",
    "    },\n",
    "    # deployment_create -> count_many\n",
    "    {\n",
    "        'destination_name': count_many_object[\"name\"],\n",
    "        'sources': [{\n",
    "            'source_name': pipeline_create_sub_deployment_name,\n",
    "            'mapping': []\n",
    "        }]\n",
    "    },\n",
    "    # count_many -> pipeline_end\n",
    "    {\n",
    "        'destination_name': 'pipeline_end',\n",
    "        'sources': [{\n",
    "            'source_name': count_many_object[\"name\"],\n",
    "            'mapping': [{\n",
    "                \"source_field_name\": \"output\",\n",
    "                \"destination_field_name\": \"output\"\n",
    "            }]\n",
    "        }]\n",
    "    }\n",
    "]\n",
    "\n",
    "# Insert or otherwise update pipeline version\n",
    "pipeline_version_template = ubiops.PipelineVersionCreate(\n",
    "    version=\"v1\",\n",
    "    request_retention_mode='full',\n",
    "    objects=objects,\n",
    "    attachments=attachments\n",
    ")\n",
    "# Insert or otherwise update pipeline version\n",
    "api.pipeline_versions_create(\n",
    "    project_name=PROJECT_NAME,\n",
    "    pipeline_name=pipeline_count_subrequests_name,\n",
    "    data=pipeline_version_template\n",
    ")"
   ]
  },
  {
   "cell_type": "markdown",
   "metadata": {},
   "source": [
    "We can now send a request to this pipeline!"
   ]
  },
  {
   "cell_type": "markdown",
   "metadata": {},
   "source": [
    "#### Send pipeline request"
   ]
  },
  {
   "cell_type": "code",
   "execution_count": null,
   "metadata": {},
   "outputs": [],
   "source": [
    "api.pipeline_requests_create(\n",
    "    project_name=PROJECT_NAME,\n",
    "    pipeline_name=pipeline_count_subrequests_name,\n",
    "    data={\"input\": 5}\n",
    ")"
   ]
  },
  {
   "cell_type": "markdown",
   "metadata": {},
   "source": [
    "## Conclusion"
   ]
  },
  {
   "cell_type": "markdown",
   "metadata": {},
   "source": [
    "In this tutorial, we have shown you how to create different pipelines with different objects in UbiOps. \n",
    "Since we are finished now with UbiOps, let's close the client:\n"
   ]
  },
  {
   "cell_type": "code",
   "execution_count": 117,
   "metadata": {
    "ExecuteTime": {
     "end_time": "2024-10-28T12:07:13.530368Z",
     "start_time": "2024-10-28T12:07:13.527934Z"
    }
   },
   "outputs": [],
   "source": [
    "client.close()"
   ]
  },
  {
   "cell_type": "markdown",
   "metadata": {},
   "source": [
    "For any questions, feel free to reach out to us via the [customer service portal](https://ubiops.atlassian.net/servicedesk/customer/portals)!"
   ]
  }
 ],
 "metadata": {
  "kernelspec": {
   "display_name": "Python 3",
   "language": "python",
   "name": "python3"
  },
  "language_info": {
   "codemirror_mode": {
    "name": "ipython",
    "version": 3
   },
   "file_extension": ".py",
   "mimetype": "text/x-python",
   "name": "python",
   "nbconvert_exporter": "python",
   "pygments_lexer": "ipython3",
   "version": "3.10.12"
  }
 },
 "nbformat": 4,
 "nbformat_minor": 2
}
