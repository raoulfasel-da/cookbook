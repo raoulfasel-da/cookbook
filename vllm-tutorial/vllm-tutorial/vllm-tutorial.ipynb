{
 "cells": [
  {
   "cell_type": "markdown",
   "id": "e4efdb03dd6076d6",
   "metadata": {},
   "source": [
    "# Deploy a streaming LLM server on UbiOps with vLLM"
   ]
  },
  {
   "cell_type": "markdown",
   "id": "45a984093040a62b",
   "metadata": {},
   "source": [
    "In this tutorial, we will explain how to run your LLMs on UbiOps with [vLLM](https://github.com/vllm-project/vllm) by setting up a vLLM server in your deployment.\n",
    "vLLM is an LLM serving framework that implements several techniques to increase model throughput, and allows a single LLM\n",
    "to process multiple requests concurrently.\n",
    "\n",
    "In our example, we spin up an [OpenAI-compatible server](https://docs.vllm.ai/en/latest/serving/openai_compatible_server.html?ref=blog.mozilla.ai). The request method of the deployment is used to route request data to the `v1/chat/completions` endpoint of this  vLLM server,\n",
    "allowing for chatlike use cases.\n",
    "\n",
    "The deployment accepts input of type `dict` in the OpenAI chat completion format, and returns output in the same standard.\n",
    "\n",
    "For demo purposes, we will deploy a vLLM server that hosts the [`meta-llama/Llama-3.2-1B`](https://huggingface.co/meta-llama/Llama-3.2-1B). To follow along, ensure that \n",
    "your UbiOps subscription has access to GPUs, and that you have a Huggingface tokens with sufficient permissions to read out Llama v3.2 1B.\n"
   ]
  },
  {
   "cell_type": "markdown",
   "id": "1f0e71d87fb785c4",
   "metadata": {},
   "source": [
    "The following steps will be performed in this tutorial:\n",
    "\n",
    "1. Set up a connection with UbiOps\n",
    "3. Create a UbiOps deployment that deploys the server\n",
    "4. Initiate a batch of requests to be handled by the deployment that hosts the vLLM server"
   ]
  },
  {
   "cell_type": "markdown",
   "id": "58b5d9c6500a0764",
   "metadata": {},
   "source": [
    "## 1. Set up a connection with the UbiOps API client\n"
   ]
  },
  {
   "cell_type": "markdown",
   "id": "127718fe99bd54b5",
   "metadata": {},
   "source": [
    "First, we will need to install the UbiOps Python Client Library to interface with UbiOps from Python."
   ]
  },
  {
   "cell_type": "code",
   "execution_count": null,
   "id": "6aadd285b13702d9",
   "metadata": {},
   "outputs": [],
   "source": [
    "!pip install -qU ubiops"
   ]
  },
  {
   "cell_type": "markdown",
   "id": "84065c88db038835",
   "metadata": {},
   "source": [
    "Now, we will need to initialize all the necessary variables for the UbiOps deployment and the deployment directory,\n",
    "which we will zip and upload to UbiOps."
   ]
  },
  {
   "cell_type": "code",
   "execution_count": null,
   "id": "ed4ce4ead8c1ede9",
   "metadata": {},
   "outputs": [],
   "source": [
    "API_TOKEN = \"<INSERT API TOKEN WITH PROJECT EDITOR RIGHTS>\"\n",
    "PROJECT_NAME = \"<INSERT YOUR PROJECT NAME>\"\n",
    "DEPLOYMENT_NAME = \"llama-server\"\n",
    "DEPLOYMENT_VERSION = \"v1\"  # Choose a name for the version.\n",
    "\n",
    "HF_TOKEN = \"<ENTER YOUR HF TOKEN WITH ACCESS TO A LLAMA REPO HERE>\"  # We need this token to download the model from Huggingface \n",
    "\n",
    "print(f\"Your new deployment will be called: {DEPLOYMENT_NAME}.\")"
   ]
  },
  {
   "cell_type": "markdown",
   "id": "6375693b8498e222",
   "metadata": {},
   "source": [
    "At last, let's initialize the UbiOps client."
   ]
  },
  {
   "cell_type": "code",
   "execution_count": null,
   "id": "d22879828eacef33",
   "metadata": {},
   "outputs": [],
   "source": [
    "import ubiops\n",
    "\n",
    "configuration = ubiops.Configuration(host=\"https://api.ubiops.com/v2.1\")\n",
    "configuration.api_key[\"Authorization\"] = API_TOKEN\n",
    "\n",
    "client = ubiops.ApiClient(configuration)\n",
    "api = ubiops.CoreApi(client)\n",
    "api.service_status()"
   ]
  },
  {
   "cell_type": "markdown",
   "id": "afdf1f21",
   "metadata": {},
   "source": [
    "And let's create a deployment package directory, where will add our [deployment package files](https://ubiops.com/docs/deployments/deployment-package/deployment-structure/)"
   ]
  },
  {
   "cell_type": "code",
   "execution_count": 27,
   "id": "a0398f02",
   "metadata": {},
   "outputs": [],
   "source": [
    "import os\n",
    "\n",
    "dir_name = \"deployment_package\"\n",
    "os.makedirs(dir_name, exist_ok=True)"
   ]
  },
  {
   "cell_type": "markdown",
   "id": "ed20ca641499059d",
   "metadata": {},
   "source": [
    "***"
   ]
  },
  {
   "cell_type": "markdown",
   "id": "2830481539446a5",
   "metadata": {},
   "source": [
    "\n",
    "## 2. Setup deployment environment\n",
    "In order to use vLLM inside the deployment, we need to set up the environment of the deployment so that everything will run smoothly.  \n",
    "This will be done by specifying the `requirements.txt`.\n",
    "More information on these files can be found in the [UbiOps docs](https://ubiops.com/docs/environments/#uploading-dependency-information)\n"
   ]
  },
  {
   "cell_type": "markdown",
   "id": "df6e2c1a86257ba4",
   "metadata": {},
   "source": [
    "All we need to do now is to create the `requirements.txt` file. Note that `vllm` automatically installs the CUDA drivers\n",
    "that are required to load the underlying model on a GPU."
   ]
  },
  {
   "cell_type": "code",
   "execution_count": null,
   "id": "fd09493bd140d59",
   "metadata": {},
   "outputs": [],
   "source": [
    "%%writefile {dir_name}/requirements.txt\n",
    "vllm\n",
    "openai"
   ]
  },
  {
   "cell_type": "markdown",
   "id": "a31ae378b0de3c9f",
   "metadata": {},
   "source": [
    "## 3. Creating UbiOps deployment"
   ]
  },
  {
   "cell_type": "markdown",
   "id": "4c616a063c7778f8",
   "metadata": {},
   "source": [
    "In this section, we will create the UbiOps deployment. \n",
    "This will be done by creating the deployment code that will run on UbiOps. \n",
    "We will furthermore archive the deployment directory and upload it to UbiOps. \n",
    "This will create a deployment and a version of the deployment on UbiOps and make it available for use."
   ]
  },
  {
   "cell_type": "markdown",
   "id": "c179488efd3eec4f",
   "metadata": {},
   "source": [
    "## 3.1 Creating deployment code"
   ]
  },
  {
   "cell_type": "markdown",
   "id": "3eec03206eee54a0",
   "metadata": {},
   "source": [
    "### Creating Deployment Code for UbiOps\n",
    "\n",
    "We will now create the deployment code that will run on UbiOps. This involves creating a `deployment.py` file containing \n",
    "a `Deployment` class with two key methods:\n",
    "\n",
    "- **`__init__` Method**  \n",
    "  This method runs when the deployment starts. It can be used to load models, data artifacts, and other requirements for inference.\n",
    "\n",
    "- **`request()` Method**  \n",
    "  This method executes every time a call is made to the model's REST API endpoint. It contains the logic for processing incoming data.\n",
    "\n",
    "We will configure [`instance_processes`](https://ubiops.com/docs/requests/request-concurrency/#request-concurrency-per-instance) to 10, \n",
    "allowing each deployment instance to handle 10 concurrent requests. The model will be loaded as a background process within the `__init__` \n",
    "of the first process. A client will also be initialized in each process to proxy requests from all running processes to the host LLM.\n",
    "\n",
    "For a complete overview of the deployment code structure, refer to the [UbiOps documentation](https://ubiops.com/docs/deployments/deployment-package/deployment-structure/).\n"
   ]
  },
  {
   "cell_type": "code",
   "execution_count": null,
   "id": "ebfe04bd3dbafb53",
   "metadata": {},
   "outputs": [],
   "source": [
    "%%writefile {dir_name}/deployment.py\n",
    "\n",
    "import os\n",
    "import subprocess\n",
    "import logging\n",
    "import time\n",
    "import requests\n",
    "import uuid\n",
    "import json\n",
    "\n",
    "from openai import OpenAI, BadRequestError\n",
    "import torch\n",
    "\n",
    "logging.basicConfig(level=logging.INFO)\n",
    "\n",
    "class PublicError(Exception):\n",
    "    # Ensure that any OpenAI specific error regarding e.g. exceeding max_model_len is propagated to the end user\n",
    "    def __init__(self, public_error_message):\n",
    "        super().__init__()\n",
    "        self.public_error_message = public_error_message\n",
    "\n",
    "\n",
    "class Deployment:\n",
    "    def __init__(self, context):\n",
    "        self.model_name = os.getenv(\"MODEL_NAME\", \"meta-llama/Llama-3.2-1B-Instruct\")\n",
    "        self.context = context\n",
    "        self.model_length = os.environ.get(\"MAX_MODEL_LEN\", 2048)\n",
    "        self.vllm_gpu_memory_utilization = os.environ.get(\"GPU_MEMORY_UTILIZATION\", 0.95)\n",
    "        \n",
    "        # Default token generation parameters \n",
    "        self.default_config = {\n",
    "            'temperature': float(os.environ.get(\"TEMPERATURE_DEFAULT\", 0.8)),\n",
    "            'max_tokens' : int(os.environ.get(\"MAX_TOKENS_DEFAULT\", 512))\n",
    "        }\n",
    "\n",
    "        # Start the vLLM server in the first process\n",
    "        if int(context[\"process_id\"]) == 0: \n",
    "            logging.info(\"Initializing vLLM\")\n",
    "            self.vllm_process = self.start_vllm_server()\n",
    "            # Poll the health endpoint to ensure the server is ready before initiating clients.\n",
    "            self.poll_health_endpoint()\n",
    "\n",
    "        # In each process, set up a client that connects to the local vLLM server\n",
    "        self.client = OpenAI(base_url=\"http://localhost:8000/v1\", api_key=\"OPENAI_KEY\")\n",
    "\n",
    "\n",
    "\n",
    "    def request(self, data, context):\n",
    "        \"\"\"\n",
    "        Method for deployment requests, called separately for each individual request.\n",
    "        Integrates vLLM server request logic using the OpenAI client.\n",
    "        See https://docs.vllm.ai/en/latest/serving/openai_compatible_server.html\n",
    "        and https://docs.vllm.ai/en/latest/quantization/auto_awq.html\n",
    "        \"\"\"\n",
    "        print(\"Processing request\")\n",
    "\n",
    "        # Parse input prompt\n",
    "        openai_chat_template = data[\"input\"]\n",
    "\n",
    "        messages = openai_chat_template[\"messages\"]\n",
    "        config = self.default_config.copy()\n",
    "        config.update(openai_chat_template.get(\"config\", {}))\n",
    "\n",
    "        is_streaming = openai_chat_template.get(\"stream\", False)  # default to non-streaming\n",
    "\n",
    "        # Always add stream_options for usage stats if streaming is enabled\n",
    "        if is_streaming:\n",
    "            config[\"stream_options\"] = {\"include_usage\": True}\n",
    "\n",
    "        # Process the request\n",
    "        try:\n",
    "            response = self.client.chat.completions.create(\n",
    "                model=self.model_name,\n",
    "                messages=messages,\n",
    "                **config,\n",
    "                stream=is_streaming\n",
    "            )\n",
    "        except BadRequestError as e:\n",
    "            raise PublicError(str(e))\n",
    "\n",
    "        if is_streaming:\n",
    "            streaming_callback = context[\"streaming_update\"]\n",
    "            response_text = \"\"\n",
    "\n",
    "            for partial_response in response:\n",
    "                print(f\"partial response: {partial_response}\")\n",
    "                if partial_response.choices:\n",
    "                    partial_text = partial_response.choices[0].delta.content\n",
    "                    if partial_text:\n",
    "                        streaming_callback(partial_text)\n",
    "                        response_text += partial_text\n",
    "                if partial_response.usage:\n",
    "                    final_chunk = partial_response\n",
    "\n",
    "            return {\n",
    "                \"output\": {\n",
    "                    \"id\": final_chunk.id,\n",
    "                    \"object\": final_chunk.object,\n",
    "                    \"created\": final_chunk.created,\n",
    "                    \"model\": final_chunk.model,\n",
    "                    \"choices\": [{\"message\": {\"content\": response_text}}],\n",
    "                    \"usage\": final_chunk.usage.dict() if final_chunk.usage else None\n",
    "                }\n",
    "            }\n",
    "\n",
    "\n",
    "        # Non-streaming response\n",
    "        return {\"output\": response.dict()}\n",
    "\n",
    "\n",
    "    def start_vllm_server(self):\n",
    "        \"\"\"\n",
    "        Starts the vLLM server in a subprocess with the specified model.\n",
    "        \"\"\"\n",
    "\n",
    "        self.vllm_path = find_executable(\"vllm\")\n",
    "        vllm_process = subprocess.Popen([self.vllm_path, \n",
    "                                         \"serve\", \n",
    "                                         self.model_name, \n",
    "                                         \"--max_model_len\",\n",
    "                                         str(self.model_length),\n",
    "                                         \"--dtype\",\n",
    "                                         \"half\",\n",
    "                                         \"--gpu-memory-utilization\",\n",
    "                                         str(self.vllm_gpu_memory_utilization),\n",
    "                                         \"--tensor-parallel-size\",  # Grab all GPUs available on the instance\n",
    "                                         str(torch.cuda.device_count()),\n",
    "                                         \"--api-key\",\n",
    "                                         \"OPENAI_KEY\"]\n",
    "        )\n",
    "\n",
    "        logging.info(\"Starting vLLM server\")\n",
    "        return vllm_process\n",
    "\n",
    "    def poll_health_endpoint(self):\n",
    "        \"\"\"\n",
    "        Polls the /health endpoint to ensure the vLLM server is ready before processing requests.\n",
    "        \"\"\"\n",
    "        logging.info(\"Initiating vLLM server. This can take a couple of minutes...\")\n",
    "        while True:\n",
    "            poll = self.vllm_process.poll()\n",
    "            # Ensure to\n",
    "            if poll is not None:\n",
    "                logging.error(\"vLLM server process terminated unexpectedly.\")\n",
    "                raise RuntimeError(f\"vLLM server process exited with code: {poll}\")\n",
    "\n",
    "            try:\n",
    "                resp = requests.get('http://localhost:8000/health', timeout=5)\n",
    "                if resp.status_code == 200:\n",
    "                    logging.info(\"vLLM server is ready\")\n",
    "                    break\n",
    "                else:\n",
    "                    logging.warning(f\"Unexpected status code: {resp.status_code}. Retrying...\")\n",
    "            except requests.exceptions.ConnectionError:\n",
    "                time.sleep(5)\n",
    "            except requests.exceptions.RequestException as e:\n",
    "                logging.error(f\"Request failed: {e}\")\n",
    "                time.sleep(5)\n",
    "\n",
    "\n",
    "def find_executable(executable_name):\n",
    "    \"\"\"\n",
    "    Find the path to the executable in virtual environment or system paths.\n",
    "    \"\"\"\n",
    "    path = subprocess.run(['which', executable_name], capture_output=True, text=True, check=True).stdout.strip()\n",
    "\n",
    "    def is_executable(file_path):\n",
    "        return os.path.isfile(file_path) and os.access(file_path, os.X_OK)\n",
    "\n",
    "    if is_executable(path):\n",
    "        logging.info(f\"The path to the executable is: {path}\")\n",
    "        return path\n"
   ]
  },
  {
   "cell_type": "markdown",
   "id": "db837e4b2946a6ee",
   "metadata": {},
   "source": [
    "### 3.2 Create UbiOps deployment"
   ]
  },
  {
   "cell_type": "markdown",
   "id": "17755684faf0329d",
   "metadata": {},
   "source": [
    "Now we can create the deployment, where we define the in- and outputs of the model.\n",
    "Each deployment can have multiple versions. For each version you can deploy different code, environments, instance types etc.\n",
    "\n",
    "We will use the following inputs and outputs in the deployment:\n",
    "\n",
    "| Type   | Field Name    | Data Type |\n",
    "|--------|---------------|-----------|\n",
    "| Input  | input         | dict      |\n",
    "| Output | output        | dict      |\n",
    "\n"
   ]
  },
  {
   "cell_type": "code",
   "execution_count": null,
   "id": "9bf4c39f319180b7",
   "metadata": {},
   "outputs": [],
   "source": [
    "deployment = api.deployments_create(\n",
    "    project_name=PROJECT_NAME,\n",
    "    data={\n",
    "        \"name\": DEPLOYMENT_NAME,\n",
    "        \"description\": \"a vLLM deployment\",\n",
    "        \"input_type\": \"structured\",\n",
    "        \"output_type\": \"structured\",\n",
    "        \"input_fields\": [\n",
    "            {\"name\": \"input\", \"data_type\": \"dict\"},\n",
    "        ],\n",
    "        \"output_fields\": [\n",
    "            {\"name\": \"output\", \"data_type\": \"dict\"},\n",
    "        ]\n",
    "    }\n",
    ")\n",
    "print(deployment)\n"
   ]
  },
  {
   "cell_type": "markdown",
   "id": "6c8f8606e9a99bef",
   "metadata": {},
   "source": [
    "### 3.3 Create a deployment version\n",
    "Next we create a version for the deployment. For the version we set the name, environment and size of the instance (we're using a GPU instance type here, check if the instance type specified here is available!)."
   ]
  },
  {
   "cell_type": "code",
   "execution_count": null,
   "id": "e311bcf0b4c90a0d",
   "metadata": {},
   "outputs": [],
   "source": [
    "version_template = {\n",
    "    \"version\": DEPLOYMENT_VERSION,\n",
    "    \"environment\": \"python3-12\",\n",
    "    \"instance_type_group_name\": \"16384 MB + 4 vCPU + NVIDIA Ada Lovelace L4\",\n",
    "    \"maximum_instances\": 1,\n",
    "    \"minimum_instances\": 0,\n",
    "    \"instance_processes\": 10,\n",
    "    \"maximum_idle_time\": 900,\n",
    "}\n",
    "\n",
    "deployment_version = api.deployment_versions_create(\n",
    "        project_name=PROJECT_NAME,\n",
    "        deployment_name=DEPLOYMENT_NAME,\n",
    "        data=version_template,\n",
    "    )\n",
    "\n",
    "print(deployment_version)"
   ]
  },
  {
   "cell_type": "markdown",
   "id": "e1fe41c6",
   "metadata": {},
   "source": [
    "Here we create environment variables for the Huggingface token.\n",
    "We need this token to allow us to download models from gated HuggingFace repos.\n",
    "The standard model used in this deployment is `meta-llama/Meta-Llama-3.2-1B`.\n",
    "This model is available in a gated HuggingFace repo, so we need to provide the token to access it.\n",
    "\n",
    "If you want to use a different model,\n",
    "you can change the deployment code or add an `MODEL_NAME` environment variable by using similar code as the code cell below:"
   ]
  },
  {
   "cell_type": "code",
   "execution_count": 32,
   "id": "5993858b",
   "metadata": {},
   "outputs": [],
   "source": [
    "api_response = api.deployment_version_environment_variables_create(\n",
    "    project_name=PROJECT_NAME,\n",
    "    deployment_name=DEPLOYMENT_NAME,\n",
    "    version=DEPLOYMENT_VERSION,\n",
    "    data=ubiops.EnvironmentVariableCreate(name=\"HF_TOKEN\", value=HF_TOKEN, secret=True),\n",
    ")"
   ]
  },
  {
   "cell_type": "markdown",
   "id": "d25b77a2c5f26e7",
   "metadata": {},
   "source": [
    "### 3.4 Archive deployment"
   ]
  },
  {
   "cell_type": "code",
   "execution_count": 33,
   "id": "1f43bd64c2395fec",
   "metadata": {},
   "outputs": [],
   "source": [
    "import shutil\n",
    "\n",
    "# Archive the deployment directory\n",
    "deployment_zip_path = shutil.make_archive(dir_name, 'zip', dir_name)"
   ]
  },
  {
   "cell_type": "markdown",
   "id": "b39e6c13e0b27590",
   "metadata": {},
   "source": [
    "### 3.5 Upload deployment\n",
    "We will now upload the deployment to UbiOps. In the background, This step will take some time, because UbiOps interprets\n",
    "the environment files and builds a docker container out of it. You can check the UI for any progress."
   ]
  },
  {
   "cell_type": "code",
   "execution_count": null,
   "id": "acc988fc7a9419f5",
   "metadata": {},
   "outputs": [],
   "source": [
    "upload_response = api.revisions_file_upload(\n",
    "    project_name=PROJECT_NAME,\n",
    "    deployment_name=DEPLOYMENT_NAME,\n",
    "    version=DEPLOYMENT_VERSION,\n",
    "    file=deployment_zip_path,\n",
    ")\n",
    "print(upload_response)\n",
    "\n",
    "# Check if the deployment is finished building. This can take a few minutes\n",
    "ubiops.utils.wait_for_deployment_version(\n",
    "    client=api.api_client,\n",
    "    project_name=PROJECT_NAME,\n",
    "    deployment_name=DEPLOYMENT_NAME,\n",
    "    version=DEPLOYMENT_VERSION,\n",
    "    revision_id=upload_response.revision,\n",
    ")"
   ]
  },
  {
   "cell_type": "markdown",
   "id": "fa3b825c9fb039bc",
   "metadata": {},
   "source": [
    "## 4. Making requests to the deployment"
   ]
  },
  {
   "cell_type": "markdown",
   "id": "d909dacad2a2b252",
   "metadata": {},
   "source": [
    "Our deployment is now live on UbiOps! Let's test it out by sending a bunch of requests to it.\n",
    "This request will be a simple prompt to the model, asking it to respond to aquestion.\n",
    "In case your deployment still needs to scale, it may take some time before your first request is picked up. You can check\n",
    "the logs of your deployment version to see if the vLLM server is ready to accept requests.\n",
    "\n",
    "Let's first prepare the requests:"
   ]
  },
  {
   "cell_type": "code",
   "execution_count": null,
   "id": "1c5a275f",
   "metadata": {},
   "outputs": [],
   "source": [
    "import json\n",
    "\n",
    "questions = [\n",
    "    \"What is the weather like today?\",\n",
    "    \"How do I cook pasta?\",\n",
    "    \"Can you explain quantum physics?\",\n",
    "    \"What is the capital of France?\",\n",
    "    \"How do I learn Python?\"\n",
    "]\n",
    "\n",
    "requests_data = [\n",
    "    {\n",
    "        \"input\": {\n",
    "            \"config\": {\n",
    "                \"max_tokens\": 256,\n",
    "                \"temperature\": 0.8\n",
    "            },\n",
    "            \"messages\": [\n",
    "                {\n",
    "                    \"content\": \"You are a helpful assistant.\",\n",
    "                    \"role\": \"system\"\n",
    "                },\n",
    "                {\n",
    "                    \"content\": question,\n",
    "                    \"role\": \"user\"\n",
    "                }\n",
    "            ],\n",
    "            \"stream\": False\n",
    "        }\n",
    "    }\n",
    "    for question in questions\n",
    "]\n",
    "\n",
    "print(json.dumps(requests_data, indent=2))\n"
   ]
  },
  {
   "cell_type": "markdown",
   "id": "2ed62b9a",
   "metadata": {},
   "source": [
    "And then create the requests:"
   ]
  },
  {
   "cell_type": "code",
   "execution_count": null,
   "id": "c0a85f777b0a7e1d",
   "metadata": {},
   "outputs": [],
   "source": [
    "\n",
    "requests = api.batch_deployment_requests_create(\n",
    "    project_name=PROJECT_NAME, deployment_name=DEPLOYMENT_NAME, data=requests_data, timeout=3600\n",
    ")"
   ]
  },
  {
   "cell_type": "markdown",
   "id": "b04c0341",
   "metadata": {},
   "source": [
    "And wait for them to complete:"
   ]
  },
  {
   "cell_type": "code",
   "execution_count": null,
   "id": "6708820d",
   "metadata": {},
   "outputs": [],
   "source": [
    "import time\n",
    "request_ids = [request.id for request in requests]\n",
    "\n",
    "while True:\n",
    "    request_statuses = [request.status for request in api.deployment_requests_batch_get(PROJECT_NAME, DEPLOYMENT_NAME, request_ids )]\n",
    "    if all(request_status == \"completed\" for request_status in request_statuses):\n",
    "        print(\"All requests handled succesfully!\")\n",
    "        break\n",
    "    time.sleep(1)\n"
   ]
  },
  {
   "cell_type": "markdown",
   "id": "27812f81",
   "metadata": {},
   "source": [
    "From the request start times, you can infer that all requests were processed simultaneously:"
   ]
  },
  {
   "cell_type": "code",
   "execution_count": null,
   "id": "421a0bf8",
   "metadata": {},
   "outputs": [],
   "source": [
    "request_start_times = [request.time_started for request in api.deployment_requests_batch_get(PROJECT_NAME, DEPLOYMENT_NAME, request_ids)]\n",
    "print(request_start_times)"
   ]
  },
  {
   "cell_type": "markdown",
   "id": "f01636251a2310f2",
   "metadata": {},
   "source": [
    "### Sending a request with streaming output\n",
    "\n",
    "For this request, we will add the key `stream: true` to the input, enabling streaming responses"
   ]
  },
  {
   "cell_type": "code",
   "execution_count": null,
   "id": "769733ea52cec1a0",
   "metadata": {},
   "outputs": [],
   "source": [
    "streaming_request_data = {\n",
    "    \"input\": {\n",
    "        \"config\": {\n",
    "            \"max_tokens\": 256,\n",
    "            \"temperature\": 0.8\n",
    "        },\n",
    "        \"messages\": [\n",
    "            {\n",
    "                \"content\": \"You are a helpful assistant.\",\n",
    "                \"role\": \"system\"\n",
    "            },\n",
    "            {\n",
    "                \"content\": \"Can you stream your response?\",  \n",
    "                \"role\": \"user\"\n",
    "            }\n",
    "        ],\n",
    "        \"stream\": True \n",
    "    }\n",
    "}\n",
    "\n",
    "data = {\"input\": streaming_request_data[\"input\"]}\n",
    "\n",
    "# Create a streaming deployment request\n",
    "for item in ubiops.utils.stream_deployment_request(\n",
    "    client=api.api_client,\n",
    "    project_name=PROJECT_NAME,\n",
    "    deployment_name=DEPLOYMENT_NAME,\n",
    "    version=DEPLOYMENT_VERSION,\n",
    "    data=data,\n",
    "    timeout=3600,\n",
    "    full_response=False,\n",
    "):\n",
    "    print(item, end=\"\")\n"
   ]
  },
  {
   "cell_type": "markdown",
   "id": "61cd0e2afeecb216",
   "metadata": {},
   "source": [
    "That's it! Even though the model itself claims it does not stream, we still ensured it did.\n",
    "\n",
    "We have set up a deployment that hosts a vLLM server. This tutorial just serves as an example. Feel free to reach out to\n",
    "our [support portal](https://www.support.ubiops.com) if you want to discuss your set-up in more detail."
   ]
  },
  {
   "cell_type": "markdown",
   "id": "ae6e8fd2123bb970",
   "metadata": {},
   "source": [
    "## 5. Cleanup"
   ]
  },
  {
   "cell_type": "markdown",
   "id": "9029ad048c6de619",
   "metadata": {},
   "source": [
    "At last, let's close our connection to UbiOps"
   ]
  },
  {
   "cell_type": "code",
   "execution_count": 48,
   "id": "605724b98813ec75",
   "metadata": {},
   "outputs": [],
   "source": [
    "client.close()"
   ]
  }
 ],
 "metadata": {
  "kernelspec": {
   "display_name": "Python 3",
   "language": "python",
   "name": "python3"
  },
  "language_info": {
   "codemirror_mode": {
    "name": "ipython",
    "version": 3
   },
   "file_extension": ".py",
   "mimetype": "text/x-python",
   "name": "python",
   "nbconvert_exporter": "python",
   "pygments_lexer": "ipython3",
   "version": "3.10.12"
  }
 },
 "nbformat": 4,
 "nbformat_minor": 5
}
